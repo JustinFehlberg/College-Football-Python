{
 "cells": [
  {
   "cell_type": "code",
   "execution_count": 1,
   "id": "365a495b-dc20-4ee9-867b-8697ed14198d",
   "metadata": {
    "tags": []
   },
   "outputs": [],
   "source": [
    "import pandas as pd\n",
    "import numpy as np\n",
    "import seaborn as sns\n",
    "import matplotlib\n",
    "import matplotlib.pyplot as plt\n",
    "import os\n",
    "import sklearn\n",
    "from sklearn.model_selection import train_test_split\n",
    "from sklearn.linear_model import LinearRegression\n",
    "from sklearn.metrics import mean_squared_error, r2_score"
   ]
  },
  {
   "cell_type": "code",
   "execution_count": 2,
   "id": "191bf52a-2804-4a8f-bb31-5cf794d1431e",
   "metadata": {
    "tags": []
   },
   "outputs": [],
   "source": [
    "%matplotlib inline"
   ]
  },
  {
   "cell_type": "code",
   "execution_count": 3,
   "id": "74ee23d8-1439-40fd-ac86-9ae17efd255b",
   "metadata": {
    "tags": []
   },
   "outputs": [],
   "source": [
    "path = r'C:\\Users\\justi\\OneDrive\\Documents\\Career foundry\\Data Immersion 6'"
   ]
  },
  {
   "cell_type": "code",
   "execution_count": 4,
   "id": "c09ece92-7577-4220-a623-c59b0894f0c7",
   "metadata": {
    "tags": []
   },
   "outputs": [],
   "source": [
    "df_team_recruit = pd.read_pickle(os.path.join(path, '02 Data', 'Prepared Data', 'team_recruit_state.pkl'))"
   ]
  },
  {
   "cell_type": "code",
   "execution_count": 5,
   "id": "0bf1b7a5-d475-40e3-be56-7e8c3d8811e9",
   "metadata": {
    "tags": []
   },
   "outputs": [],
   "source": [
    "df_team = pd.read_csv(os.path.join(path, '02 Data', 'Original Data', 'merge team total.csv'), index_col = False)"
   ]
  },
  {
   "cell_type": "code",
   "execution_count": 6,
   "id": "4284c5cf-8b5b-4702-9e9a-e34900e8c2bf",
   "metadata": {
    "tags": []
   },
   "outputs": [
    {
     "data": {
      "text/plain": [
       "Index(['primary_key', 'freshman_year', 'name', 'position', 'high_school',\n",
       "       'rating', 'stars', 'committed_to', 'recruit_type', 'height', 'weight',\n",
       "       'high_school_city', 'high_school_state', 'high_school_country', 'id',\n",
       "       'athlete_id', 'ncaa_year', 'ncaa_team', 'conference', 'total_games',\n",
       "       'win', 'loss', 'off_rank', 'def_rank', 'star_ranking', 'star_position',\n",
       "       'ncaa_team_state'],\n",
       "      dtype='object')"
      ]
     },
     "execution_count": 6,
     "metadata": {},
     "output_type": "execute_result"
    }
   ],
   "source": [
    "df_team_recruit.columns"
   ]
  },
  {
   "cell_type": "code",
   "execution_count": 7,
   "id": "eb73bfda-af1e-422a-9cd7-dda41fc524c8",
   "metadata": {
    "tags": []
   },
   "outputs": [],
   "source": [
    "df_t_r = df_team_recruit[['freshman_year', 'position', 'high_school', 'rating', 'stars', 'height', 'weight', 'high_school_city', 'high_school_state', 'ncaa_year',\n",
    "                          'ncaa_team', 'conference', 'total_games', 'win', 'loss', 'off_rank', 'def_rank', 'star_ranking', 'star_position', 'ncaa_team_state']]\n",
    "                          "
   ]
  },
  {
   "cell_type": "code",
   "execution_count": 8,
   "id": "85a1b016-f4e0-46a1-b86c-a6ee13a7cc6a",
   "metadata": {
    "tags": []
   },
   "outputs": [
    {
     "data": {
      "text/html": [
       "<div>\n",
       "<style scoped>\n",
       "    .dataframe tbody tr th:only-of-type {\n",
       "        vertical-align: middle;\n",
       "    }\n",
       "\n",
       "    .dataframe tbody tr th {\n",
       "        vertical-align: top;\n",
       "    }\n",
       "\n",
       "    .dataframe thead th {\n",
       "        text-align: right;\n",
       "    }\n",
       "</style>\n",
       "<table border=\"1\" class=\"dataframe\">\n",
       "  <thead>\n",
       "    <tr style=\"text-align: right;\">\n",
       "      <th></th>\n",
       "      <th>freshman_year</th>\n",
       "      <th>position</th>\n",
       "      <th>high_school</th>\n",
       "      <th>rating</th>\n",
       "      <th>stars</th>\n",
       "      <th>height</th>\n",
       "      <th>weight</th>\n",
       "      <th>high_school_city</th>\n",
       "      <th>high_school_state</th>\n",
       "      <th>ncaa_year</th>\n",
       "      <th>ncaa_team</th>\n",
       "      <th>conference</th>\n",
       "      <th>total_games</th>\n",
       "      <th>win</th>\n",
       "      <th>loss</th>\n",
       "      <th>off_rank</th>\n",
       "      <th>def_rank</th>\n",
       "      <th>star_ranking</th>\n",
       "      <th>star_position</th>\n",
       "      <th>ncaa_team_state</th>\n",
       "    </tr>\n",
       "  </thead>\n",
       "  <tbody>\n",
       "    <tr>\n",
       "      <th>0</th>\n",
       "      <td>2018</td>\n",
       "      <td>OLB</td>\n",
       "      <td>Cy-Fair</td>\n",
       "      <td>0.7953</td>\n",
       "      <td>2</td>\n",
       "      <td>73</td>\n",
       "      <td>210</td>\n",
       "      <td>Cypress</td>\n",
       "      <td>TX</td>\n",
       "      <td>2018</td>\n",
       "      <td>Air Force</td>\n",
       "      <td>MWC</td>\n",
       "      <td>12</td>\n",
       "      <td>5</td>\n",
       "      <td>7</td>\n",
       "      <td>52</td>\n",
       "      <td>43</td>\n",
       "      <td>2_star</td>\n",
       "      <td>2_star_OLB</td>\n",
       "      <td>CO</td>\n",
       "    </tr>\n",
       "    <tr>\n",
       "      <th>1</th>\n",
       "      <td>2018</td>\n",
       "      <td>WR</td>\n",
       "      <td>Shadow Creek</td>\n",
       "      <td>0.8065</td>\n",
       "      <td>3</td>\n",
       "      <td>69</td>\n",
       "      <td>165</td>\n",
       "      <td>Pearland</td>\n",
       "      <td>TX</td>\n",
       "      <td>2018</td>\n",
       "      <td>Air Force</td>\n",
       "      <td>MWC</td>\n",
       "      <td>12</td>\n",
       "      <td>5</td>\n",
       "      <td>7</td>\n",
       "      <td>52</td>\n",
       "      <td>43</td>\n",
       "      <td>3_star</td>\n",
       "      <td>3_star_WR</td>\n",
       "      <td>CO</td>\n",
       "    </tr>\n",
       "    <tr>\n",
       "      <th>2</th>\n",
       "      <td>2018</td>\n",
       "      <td>S</td>\n",
       "      <td>Alief Hastings</td>\n",
       "      <td>0.8054</td>\n",
       "      <td>3</td>\n",
       "      <td>73</td>\n",
       "      <td>205</td>\n",
       "      <td>Houston</td>\n",
       "      <td>TX</td>\n",
       "      <td>2018</td>\n",
       "      <td>Air Force</td>\n",
       "      <td>MWC</td>\n",
       "      <td>12</td>\n",
       "      <td>5</td>\n",
       "      <td>7</td>\n",
       "      <td>52</td>\n",
       "      <td>43</td>\n",
       "      <td>3_star</td>\n",
       "      <td>3_star_S</td>\n",
       "      <td>CO</td>\n",
       "    </tr>\n",
       "    <tr>\n",
       "      <th>3</th>\n",
       "      <td>2018</td>\n",
       "      <td>DUAL</td>\n",
       "      <td>Damien</td>\n",
       "      <td>0.7792</td>\n",
       "      <td>2</td>\n",
       "      <td>74</td>\n",
       "      <td>190</td>\n",
       "      <td>La Verne</td>\n",
       "      <td>CA</td>\n",
       "      <td>2018</td>\n",
       "      <td>Air Force</td>\n",
       "      <td>MWC</td>\n",
       "      <td>12</td>\n",
       "      <td>5</td>\n",
       "      <td>7</td>\n",
       "      <td>52</td>\n",
       "      <td>43</td>\n",
       "      <td>2_star</td>\n",
       "      <td>2_star_DUAL</td>\n",
       "      <td>CO</td>\n",
       "    </tr>\n",
       "    <tr>\n",
       "      <th>4</th>\n",
       "      <td>2018</td>\n",
       "      <td>TE</td>\n",
       "      <td>San Clemente</td>\n",
       "      <td>0.8255</td>\n",
       "      <td>3</td>\n",
       "      <td>77</td>\n",
       "      <td>213</td>\n",
       "      <td>San Clemente</td>\n",
       "      <td>CA</td>\n",
       "      <td>2018</td>\n",
       "      <td>Air Force</td>\n",
       "      <td>MWC</td>\n",
       "      <td>12</td>\n",
       "      <td>5</td>\n",
       "      <td>7</td>\n",
       "      <td>52</td>\n",
       "      <td>43</td>\n",
       "      <td>3_star</td>\n",
       "      <td>3_star_TE</td>\n",
       "      <td>CO</td>\n",
       "    </tr>\n",
       "  </tbody>\n",
       "</table>\n",
       "</div>"
      ],
      "text/plain": [
       "   freshman_year position     high_school  rating  stars height weight  \\\n",
       "0           2018      OLB         Cy-Fair  0.7953      2     73    210   \n",
       "1           2018       WR    Shadow Creek  0.8065      3     69    165   \n",
       "2           2018        S  Alief Hastings  0.8054      3     73    205   \n",
       "3           2018     DUAL          Damien  0.7792      2     74    190   \n",
       "4           2018       TE    San Clemente  0.8255      3     77    213   \n",
       "\n",
       "  high_school_city high_school_state  ncaa_year   ncaa_team conference  \\\n",
       "0          Cypress                TX       2018  Air Force         MWC   \n",
       "1         Pearland                TX       2018  Air Force         MWC   \n",
       "2          Houston                TX       2018  Air Force         MWC   \n",
       "3         La Verne                CA       2018  Air Force         MWC   \n",
       "4     San Clemente                CA       2018  Air Force         MWC   \n",
       "\n",
       "   total_games  win  loss  off_rank  def_rank star_ranking star_position  \\\n",
       "0           12    5     7        52        43       2_star    2_star_OLB   \n",
       "1           12    5     7        52        43       3_star     3_star_WR   \n",
       "2           12    5     7        52        43       3_star      3_star_S   \n",
       "3           12    5     7        52        43       2_star   2_star_DUAL   \n",
       "4           12    5     7        52        43       3_star     3_star_TE   \n",
       "\n",
       "  ncaa_team_state  \n",
       "0              CO  \n",
       "1              CO  \n",
       "2              CO  \n",
       "3              CO  \n",
       "4              CO  "
      ]
     },
     "execution_count": 8,
     "metadata": {},
     "output_type": "execute_result"
    }
   ],
   "source": [
    "df_t_r.head()"
   ]
  },
  {
   "cell_type": "code",
   "execution_count": 10,
   "id": "d132edf1-b1ed-4761-a2a5-56051efd605c",
   "metadata": {
    "tags": []
   },
   "outputs": [
    {
     "data": {
      "text/html": [
       "<div>\n",
       "<style scoped>\n",
       "    .dataframe tbody tr th:only-of-type {\n",
       "        vertical-align: middle;\n",
       "    }\n",
       "\n",
       "    .dataframe tbody tr th {\n",
       "        vertical-align: top;\n",
       "    }\n",
       "\n",
       "    .dataframe thead th {\n",
       "        text-align: right;\n",
       "    }\n",
       "</style>\n",
       "<table border=\"1\" class=\"dataframe\">\n",
       "  <thead>\n",
       "    <tr style=\"text-align: right;\">\n",
       "      <th></th>\n",
       "      <th>freshman_year</th>\n",
       "      <th>rating</th>\n",
       "      <th>stars</th>\n",
       "      <th>ncaa_year</th>\n",
       "      <th>total_games</th>\n",
       "      <th>win</th>\n",
       "      <th>loss</th>\n",
       "      <th>off_rank</th>\n",
       "      <th>def_rank</th>\n",
       "    </tr>\n",
       "  </thead>\n",
       "  <tbody>\n",
       "    <tr>\n",
       "      <th>count</th>\n",
       "      <td>13003.000000</td>\n",
       "      <td>13003.000000</td>\n",
       "      <td>13003.000000</td>\n",
       "      <td>13003.000000</td>\n",
       "      <td>13003.000000</td>\n",
       "      <td>13003.000000</td>\n",
       "      <td>13003.000000</td>\n",
       "      <td>13003.000000</td>\n",
       "      <td>13003.000000</td>\n",
       "    </tr>\n",
       "    <tr>\n",
       "      <th>mean</th>\n",
       "      <td>2019.784127</td>\n",
       "      <td>0.846502</td>\n",
       "      <td>3.016458</td>\n",
       "      <td>2019.784127</td>\n",
       "      <td>11.819426</td>\n",
       "      <td>6.345305</td>\n",
       "      <td>5.474121</td>\n",
       "      <td>64.446974</td>\n",
       "      <td>63.485965</td>\n",
       "    </tr>\n",
       "    <tr>\n",
       "      <th>std</th>\n",
       "      <td>1.371111</td>\n",
       "      <td>0.048999</td>\n",
       "      <td>0.584136</td>\n",
       "      <td>1.371111</td>\n",
       "      <td>2.244308</td>\n",
       "      <td>3.201407</td>\n",
       "      <td>2.561053</td>\n",
       "      <td>37.304635</td>\n",
       "      <td>37.668206</td>\n",
       "    </tr>\n",
       "    <tr>\n",
       "      <th>min</th>\n",
       "      <td>2018.000000</td>\n",
       "      <td>0.699600</td>\n",
       "      <td>1.000000</td>\n",
       "      <td>2018.000000</td>\n",
       "      <td>3.000000</td>\n",
       "      <td>0.000000</td>\n",
       "      <td>0.000000</td>\n",
       "      <td>1.000000</td>\n",
       "      <td>1.000000</td>\n",
       "    </tr>\n",
       "    <tr>\n",
       "      <th>25%</th>\n",
       "      <td>2019.000000</td>\n",
       "      <td>0.812500</td>\n",
       "      <td>3.000000</td>\n",
       "      <td>2019.000000</td>\n",
       "      <td>12.000000</td>\n",
       "      <td>4.000000</td>\n",
       "      <td>4.000000</td>\n",
       "      <td>32.500000</td>\n",
       "      <td>30.000000</td>\n",
       "    </tr>\n",
       "    <tr>\n",
       "      <th>50%</th>\n",
       "      <td>2020.000000</td>\n",
       "      <td>0.844200</td>\n",
       "      <td>3.000000</td>\n",
       "      <td>2020.000000</td>\n",
       "      <td>12.000000</td>\n",
       "      <td>6.000000</td>\n",
       "      <td>6.000000</td>\n",
       "      <td>64.000000</td>\n",
       "      <td>63.000000</td>\n",
       "    </tr>\n",
       "    <tr>\n",
       "      <th>75%</th>\n",
       "      <td>2021.000000</td>\n",
       "      <td>0.871900</td>\n",
       "      <td>3.000000</td>\n",
       "      <td>2021.000000</td>\n",
       "      <td>13.000000</td>\n",
       "      <td>9.000000</td>\n",
       "      <td>7.000000</td>\n",
       "      <td>97.000000</td>\n",
       "      <td>96.000000</td>\n",
       "    </tr>\n",
       "    <tr>\n",
       "      <th>max</th>\n",
       "      <td>2022.000000</td>\n",
       "      <td>0.999900</td>\n",
       "      <td>5.000000</td>\n",
       "      <td>2022.000000</td>\n",
       "      <td>15.000000</td>\n",
       "      <td>15.000000</td>\n",
       "      <td>12.000000</td>\n",
       "      <td>131.000000</td>\n",
       "      <td>131.000000</td>\n",
       "    </tr>\n",
       "  </tbody>\n",
       "</table>\n",
       "</div>"
      ],
      "text/plain": [
       "       freshman_year        rating         stars     ncaa_year   total_games  \\\n",
       "count   13003.000000  13003.000000  13003.000000  13003.000000  13003.000000   \n",
       "mean     2019.784127      0.846502      3.016458   2019.784127     11.819426   \n",
       "std         1.371111      0.048999      0.584136      1.371111      2.244308   \n",
       "min      2018.000000      0.699600      1.000000   2018.000000      3.000000   \n",
       "25%      2019.000000      0.812500      3.000000   2019.000000     12.000000   \n",
       "50%      2020.000000      0.844200      3.000000   2020.000000     12.000000   \n",
       "75%      2021.000000      0.871900      3.000000   2021.000000     13.000000   \n",
       "max      2022.000000      0.999900      5.000000   2022.000000     15.000000   \n",
       "\n",
       "                win          loss      off_rank      def_rank  \n",
       "count  13003.000000  13003.000000  13003.000000  13003.000000  \n",
       "mean       6.345305      5.474121     64.446974     63.485965  \n",
       "std        3.201407      2.561053     37.304635     37.668206  \n",
       "min        0.000000      0.000000      1.000000      1.000000  \n",
       "25%        4.000000      4.000000     32.500000     30.000000  \n",
       "50%        6.000000      6.000000     64.000000     63.000000  \n",
       "75%        9.000000      7.000000     97.000000     96.000000  \n",
       "max       15.000000     12.000000    131.000000    131.000000  "
      ]
     },
     "execution_count": 10,
     "metadata": {},
     "output_type": "execute_result"
    }
   ],
   "source": [
    "df_t_r.describe()"
   ]
  },
  {
   "cell_type": "code",
   "execution_count": 16,
   "id": "3c3f9712-f062-40a5-be20-00ac5133287c",
   "metadata": {
    "tags": []
   },
   "outputs": [
    {
     "name": "stderr",
     "output_type": "stream",
     "text": [
      "C:\\Users\\justi\\AppData\\Local\\Temp\\ipykernel_20828\\3639647463.py:1: UserWarning: \n",
      "\n",
      "`distplot` is a deprecated function and will be removed in seaborn v0.14.0.\n",
      "\n",
      "Please adapt your code to use either `displot` (a figure-level function with\n",
      "similar flexibility) or `histplot` (an axes-level function for histograms).\n",
      "\n",
      "For a guide to updating your code to use the new functions, please see\n",
      "https://gist.github.com/mwaskom/de44147ed2974457ad6372750bbe5751\n",
      "\n",
      "  sns.distplot(df_t_r['rating'])\n"
     ]
    },
    {
     "data": {
      "text/plain": [
       "<Axes: xlabel='rating', ylabel='Density'>"
      ]
     },
     "execution_count": 16,
     "metadata": {},
     "output_type": "execute_result"
    },
    {
     "data": {
      "image/png": "[encoded data removed]",
      "text/plain": [
       "<Figure size 640x480 with 1 Axes>"
      ]
     },
     "metadata": {},
     "output_type": "display_data"
    }
   ],
   "source": [
    "sns.distplot(df_t_r['rating'])"
   ]
  },
  {
   "cell_type": "code",
   "execution_count": 17,
   "id": "adc285b3-1df9-4c60-85a5-784bc73e1783",
   "metadata": {
    "tags": []
   },
   "outputs": [],
   "source": [
    "year_avg = df_t_r.groupby(['freshman_year'])['rating'].mean()"
   ]
  },
  {
   "cell_type": "code",
   "execution_count": 18,
   "id": "7b7f0f2a-e875-442d-9504-a4b0a10049a9",
   "metadata": {
    "tags": []
   },
   "outputs": [
    {
     "data": {
      "text/plain": [
       "freshman_year\n",
       "2018    0.836323\n",
       "2019    0.841749\n",
       "2020    0.845268\n",
       "2021    0.851709\n",
       "2022    0.865191\n",
       "Name: rating, dtype: float64"
      ]
     },
     "execution_count": 18,
     "metadata": {},
     "output_type": "execute_result"
    }
   ],
   "source": [
    "year_avg"
   ]
  },
  {
   "cell_type": "code",
   "execution_count": 28,
   "id": "72b98847-b327-464b-8970-b39e2b2b7426",
   "metadata": {
    "tags": []
   },
   "outputs": [],
   "source": [
    "year_conf = df_t_r.groupby(['ncaa_year', 'conference']).agg({\n",
    "    'win' : 'count',\n",
    "    'rating' : 'mean'\n",
    "})"
   ]
  },
  {
   "cell_type": "code",
   "execution_count": 29,
   "id": "91a66cff-22a7-4873-a5c5-3d22c3e37af7",
   "metadata": {
    "tags": []
   },
   "outputs": [
    {
     "data": {
      "text/html": [
       "<div>\n",
       "<style scoped>\n",
       "    .dataframe tbody tr th:only-of-type {\n",
       "        vertical-align: middle;\n",
       "    }\n",
       "\n",
       "    .dataframe tbody tr th {\n",
       "        vertical-align: top;\n",
       "    }\n",
       "\n",
       "    .dataframe thead th {\n",
       "        text-align: right;\n",
       "    }\n",
       "</style>\n",
       "<table border=\"1\" class=\"dataframe\">\n",
       "  <thead>\n",
       "    <tr style=\"text-align: right;\">\n",
       "      <th></th>\n",
       "      <th></th>\n",
       "      <th>win</th>\n",
       "      <th>rating</th>\n",
       "    </tr>\n",
       "    <tr>\n",
       "      <th>ncaa_year</th>\n",
       "      <th>conference</th>\n",
       "      <th></th>\n",
       "      <th></th>\n",
       "    </tr>\n",
       "  </thead>\n",
       "  <tbody>\n",
       "    <tr>\n",
       "      <th rowspan=\"11\" valign=\"top\">2018</th>\n",
       "      <th>AAC</th>\n",
       "      <td>279</td>\n",
       "      <td>0.818269</td>\n",
       "    </tr>\n",
       "    <tr>\n",
       "      <th>ACC</th>\n",
       "      <td>313</td>\n",
       "      <td>0.867750</td>\n",
       "    </tr>\n",
       "    <tr>\n",
       "      <th>Big 12</th>\n",
       "      <td>243</td>\n",
       "      <td>0.865491</td>\n",
       "    </tr>\n",
       "    <tr>\n",
       "      <th>Big Ten</th>\n",
       "      <td>347</td>\n",
       "      <td>0.863843</td>\n",
       "    </tr>\n",
       "    <tr>\n",
       "      <th>C-USA</th>\n",
       "      <td>298</td>\n",
       "      <td>0.803728</td>\n",
       "    </tr>\n",
       "    <tr>\n",
       "      <th>FBS Independent</th>\n",
       "      <td>137</td>\n",
       "      <td>0.810725</td>\n",
       "    </tr>\n",
       "    <tr>\n",
       "      <th>MAC</th>\n",
       "      <td>240</td>\n",
       "      <td>0.800382</td>\n",
       "    </tr>\n",
       "    <tr>\n",
       "      <th>MWC</th>\n",
       "      <td>295</td>\n",
       "      <td>0.797177</td>\n",
       "    </tr>\n",
       "    <tr>\n",
       "      <th>Pac-12</th>\n",
       "      <td>290</td>\n",
       "      <td>0.860791</td>\n",
       "    </tr>\n",
       "    <tr>\n",
       "      <th>SEC</th>\n",
       "      <td>330</td>\n",
       "      <td>0.881733</td>\n",
       "    </tr>\n",
       "    <tr>\n",
       "      <th>Sun Belt</th>\n",
       "      <td>244</td>\n",
       "      <td>0.794831</td>\n",
       "    </tr>\n",
       "    <tr>\n",
       "      <th rowspan=\"11\" valign=\"top\">2019</th>\n",
       "      <th>AAC</th>\n",
       "      <td>224</td>\n",
       "      <td>0.822677</td>\n",
       "    </tr>\n",
       "    <tr>\n",
       "      <th>ACC</th>\n",
       "      <td>301</td>\n",
       "      <td>0.864579</td>\n",
       "    </tr>\n",
       "    <tr>\n",
       "      <th>Big 12</th>\n",
       "      <td>226</td>\n",
       "      <td>0.865319</td>\n",
       "    </tr>\n",
       "    <tr>\n",
       "      <th>Big Ten</th>\n",
       "      <td>305</td>\n",
       "      <td>0.874287</td>\n",
       "    </tr>\n",
       "    <tr>\n",
       "      <th>C-USA</th>\n",
       "      <td>331</td>\n",
       "      <td>0.809693</td>\n",
       "    </tr>\n",
       "    <tr>\n",
       "      <th>FBS Independent</th>\n",
       "      <td>124</td>\n",
       "      <td>0.823187</td>\n",
       "    </tr>\n",
       "    <tr>\n",
       "      <th>MAC</th>\n",
       "      <td>277</td>\n",
       "      <td>0.802231</td>\n",
       "    </tr>\n",
       "    <tr>\n",
       "      <th>Mountain West</th>\n",
       "      <td>274</td>\n",
       "      <td>0.807161</td>\n",
       "    </tr>\n",
       "    <tr>\n",
       "      <th>Pac-12</th>\n",
       "      <td>294</td>\n",
       "      <td>0.861439</td>\n",
       "    </tr>\n",
       "    <tr>\n",
       "      <th>SEC</th>\n",
       "      <td>353</td>\n",
       "      <td>0.895916</td>\n",
       "    </tr>\n",
       "    <tr>\n",
       "      <th>Sun Belt</th>\n",
       "      <td>230</td>\n",
       "      <td>0.800771</td>\n",
       "    </tr>\n",
       "    <tr>\n",
       "      <th rowspan=\"11\" valign=\"top\">2020</th>\n",
       "      <th>AAC</th>\n",
       "      <td>243</td>\n",
       "      <td>0.824789</td>\n",
       "    </tr>\n",
       "    <tr>\n",
       "      <th>ACC</th>\n",
       "      <td>319</td>\n",
       "      <td>0.869026</td>\n",
       "    </tr>\n",
       "    <tr>\n",
       "      <th>Big 12</th>\n",
       "      <td>221</td>\n",
       "      <td>0.864120</td>\n",
       "    </tr>\n",
       "    <tr>\n",
       "      <th>Big Ten</th>\n",
       "      <td>318</td>\n",
       "      <td>0.868397</td>\n",
       "    </tr>\n",
       "    <tr>\n",
       "      <th>C-USA</th>\n",
       "      <td>272</td>\n",
       "      <td>0.818586</td>\n",
       "    </tr>\n",
       "    <tr>\n",
       "      <th>FBS Independent</th>\n",
       "      <td>130</td>\n",
       "      <td>0.806338</td>\n",
       "    </tr>\n",
       "    <tr>\n",
       "      <th>MAC</th>\n",
       "      <td>276</td>\n",
       "      <td>0.809271</td>\n",
       "    </tr>\n",
       "    <tr>\n",
       "      <th>Mountain West</th>\n",
       "      <td>235</td>\n",
       "      <td>0.811261</td>\n",
       "    </tr>\n",
       "    <tr>\n",
       "      <th>Pac-12</th>\n",
       "      <td>283</td>\n",
       "      <td>0.860941</td>\n",
       "    </tr>\n",
       "    <tr>\n",
       "      <th>SEC</th>\n",
       "      <td>338</td>\n",
       "      <td>0.895361</td>\n",
       "    </tr>\n",
       "    <tr>\n",
       "      <th>Sun Belt</th>\n",
       "      <td>190</td>\n",
       "      <td>0.817656</td>\n",
       "    </tr>\n",
       "    <tr>\n",
       "      <th rowspan=\"11\" valign=\"top\">2021</th>\n",
       "      <th>AAC</th>\n",
       "      <td>189</td>\n",
       "      <td>0.836043</td>\n",
       "    </tr>\n",
       "    <tr>\n",
       "      <th>ACC</th>\n",
       "      <td>294</td>\n",
       "      <td>0.869330</td>\n",
       "    </tr>\n",
       "    <tr>\n",
       "      <th>Big 12</th>\n",
       "      <td>171</td>\n",
       "      <td>0.870661</td>\n",
       "    </tr>\n",
       "    <tr>\n",
       "      <th>Big Ten</th>\n",
       "      <td>260</td>\n",
       "      <td>0.877562</td>\n",
       "    </tr>\n",
       "    <tr>\n",
       "      <th>C-USA</th>\n",
       "      <td>163</td>\n",
       "      <td>0.822501</td>\n",
       "    </tr>\n",
       "    <tr>\n",
       "      <th>FBS Independent</th>\n",
       "      <td>131</td>\n",
       "      <td>0.825650</td>\n",
       "    </tr>\n",
       "    <tr>\n",
       "      <th>MAC</th>\n",
       "      <td>234</td>\n",
       "      <td>0.813211</td>\n",
       "    </tr>\n",
       "    <tr>\n",
       "      <th>Mountain West</th>\n",
       "      <td>222</td>\n",
       "      <td>0.818199</td>\n",
       "    </tr>\n",
       "    <tr>\n",
       "      <th>Pac-12</th>\n",
       "      <td>212</td>\n",
       "      <td>0.871464</td>\n",
       "    </tr>\n",
       "    <tr>\n",
       "      <th>SEC</th>\n",
       "      <td>277</td>\n",
       "      <td>0.894123</td>\n",
       "    </tr>\n",
       "    <tr>\n",
       "      <th>Sun Belt</th>\n",
       "      <td>129</td>\n",
       "      <td>0.824612</td>\n",
       "    </tr>\n",
       "    <tr>\n",
       "      <th rowspan=\"11\" valign=\"top\">2022</th>\n",
       "      <th>AAC</th>\n",
       "      <td>132</td>\n",
       "      <td>0.849690</td>\n",
       "    </tr>\n",
       "    <tr>\n",
       "      <th>ACC</th>\n",
       "      <td>233</td>\n",
       "      <td>0.875857</td>\n",
       "    </tr>\n",
       "    <tr>\n",
       "      <th>Big 12</th>\n",
       "      <td>185</td>\n",
       "      <td>0.882156</td>\n",
       "    </tr>\n",
       "    <tr>\n",
       "      <th>Big Ten</th>\n",
       "      <td>282</td>\n",
       "      <td>0.881555</td>\n",
       "    </tr>\n",
       "    <tr>\n",
       "      <th>C-USA</th>\n",
       "      <td>90</td>\n",
       "      <td>0.826934</td>\n",
       "    </tr>\n",
       "    <tr>\n",
       "      <th>FBS Independent</th>\n",
       "      <td>80</td>\n",
       "      <td>0.852301</td>\n",
       "    </tr>\n",
       "    <tr>\n",
       "      <th>MAC</th>\n",
       "      <td>147</td>\n",
       "      <td>0.822345</td>\n",
       "    </tr>\n",
       "    <tr>\n",
       "      <th>Mountain West</th>\n",
       "      <td>144</td>\n",
       "      <td>0.828978</td>\n",
       "    </tr>\n",
       "    <tr>\n",
       "      <th>Pac-12</th>\n",
       "      <td>191</td>\n",
       "      <td>0.872435</td>\n",
       "    </tr>\n",
       "    <tr>\n",
       "      <th>SEC</th>\n",
       "      <td>313</td>\n",
       "      <td>0.901135</td>\n",
       "    </tr>\n",
       "    <tr>\n",
       "      <th>Sun Belt</th>\n",
       "      <td>144</td>\n",
       "      <td>0.831585</td>\n",
       "    </tr>\n",
       "  </tbody>\n",
       "</table>\n",
       "</div>"
      ],
      "text/plain": [
       "                           win    rating\n",
       "ncaa_year conference                    \n",
       "2018      AAC              279  0.818269\n",
       "          ACC              313  0.867750\n",
       "          Big 12           243  0.865491\n",
       "          Big Ten          347  0.863843\n",
       "          C-USA            298  0.803728\n",
       "          FBS Independent  137  0.810725\n",
       "          MAC              240  0.800382\n",
       "          MWC              295  0.797177\n",
       "          Pac-12           290  0.860791\n",
       "          SEC              330  0.881733\n",
       "          Sun Belt         244  0.794831\n",
       "2019      AAC              224  0.822677\n",
       "          ACC              301  0.864579\n",
       "          Big 12           226  0.865319\n",
       "          Big Ten          305  0.874287\n",
       "          C-USA            331  0.809693\n",
       "          FBS Independent  124  0.823187\n",
       "          MAC              277  0.802231\n",
       "          Mountain West    274  0.807161\n",
       "          Pac-12           294  0.861439\n",
       "          SEC              353  0.895916\n",
       "          Sun Belt         230  0.800771\n",
       "2020      AAC              243  0.824789\n",
       "          ACC              319  0.869026\n",
       "          Big 12           221  0.864120\n",
       "          Big Ten          318  0.868397\n",
       "          C-USA            272  0.818586\n",
       "          FBS Independent  130  0.806338\n",
       "          MAC              276  0.809271\n",
       "          Mountain West    235  0.811261\n",
       "          Pac-12           283  0.860941\n",
       "          SEC              338  0.895361\n",
       "          Sun Belt         190  0.817656\n",
       "2021      AAC              189  0.836043\n",
       "          ACC              294  0.869330\n",
       "          Big 12           171  0.870661\n",
       "          Big Ten          260  0.877562\n",
       "          C-USA            163  0.822501\n",
       "          FBS Independent  131  0.825650\n",
       "          MAC              234  0.813211\n",
       "          Mountain West    222  0.818199\n",
       "          Pac-12           212  0.871464\n",
       "          SEC              277  0.894123\n",
       "          Sun Belt         129  0.824612\n",
       "2022      AAC              132  0.849690\n",
       "          ACC              233  0.875857\n",
       "          Big 12           185  0.882156\n",
       "          Big Ten          282  0.881555\n",
       "          C-USA             90  0.826934\n",
       "          FBS Independent   80  0.852301\n",
       "          MAC              147  0.822345\n",
       "          Mountain West    144  0.828978\n",
       "          Pac-12           191  0.872435\n",
       "          SEC              313  0.901135\n",
       "          Sun Belt         144  0.831585"
      ]
     },
     "execution_count": 29,
     "metadata": {},
     "output_type": "execute_result"
    }
   ],
   "source": [
    "year_conf.head(55)"
   ]
  },
  {
   "cell_type": "code",
   "execution_count": 30,
   "id": "98f830e6-c474-402a-a570-11e9541a8bd0",
   "metadata": {
    "tags": []
   },
   "outputs": [
    {
     "data": {
      "image/png": "[encoded data removed]",
      "text/plain": [
       "<Figure size 640x480 with 1 Axes>"
      ]
     },
     "metadata": {},
     "output_type": "display_data"
    }
   ],
   "source": [
    "df_t_r.plot(x = 'ncaa_year', y='rating',style='o')\n",
    "plt.title('rating by year')  \n",
    "plt.xlabel('year')  \n",
    "plt.ylabel('rating')  \n",
    "plt.show()"
   ]
  },
  {
   "cell_type": "code",
   "execution_count": 32,
   "id": "ebacc7ac-89e6-4a75-ac6e-a27e119b1585",
   "metadata": {
    "tags": []
   },
   "outputs": [
    {
     "data": {
      "image/png": "[encoded data removed]",
      "text/plain": [
       "<Figure size 640x480 with 1 Axes>"
      ]
     },
     "metadata": {},
     "output_type": "display_data"
    }
   ],
   "source": [
    "df_t_r.plot(x = 'rating', y='win',style='o') # The style option creates a scatterplot; without it, we only have lines.\n",
    "plt.title('ratings by wins')  \n",
    "plt.xlabel('rating')  \n",
    "plt.ylabel('wins')  \n",
    "plt.show()"
   ]
  },
  {
   "cell_type": "markdown",
   "id": "441437e6-6deb-4e61-b733-37866c929344",
   "metadata": {},
   "source": [
    "## Hypotheses: As the years increase so will the recruiting rankings."
   ]
  },
  {
   "cell_type": "code",
   "execution_count": 45,
   "id": "ef93cdeb-e744-4fa3-bd2a-f3fec4ca2c7b",
   "metadata": {
    "tags": []
   },
   "outputs": [],
   "source": [
    "x = df_t_r['ncaa_year'].values.reshape(-1, 1)\n",
    "y = df_t_r['rating'].values.reshape(-1, 1)"
   ]
  },
  {
   "cell_type": "code",
   "execution_count": 46,
   "id": "7981c394-a2c9-4616-ad0d-5ff90768f813",
   "metadata": {
    "tags": []
   },
   "outputs": [
    {
     "data": {
      "text/plain": [
       "array([[2018],\n",
       "       [2018],\n",
       "       [2018],\n",
       "       ...,\n",
       "       [2022],\n",
       "       [2022],\n",
       "       [2022]], dtype=int64)"
      ]
     },
     "execution_count": 46,
     "metadata": {},
     "output_type": "execute_result"
    }
   ],
   "source": [
    "x"
   ]
  },
  {
   "cell_type": "code",
   "execution_count": 47,
   "id": "b2d84f11-b57c-4601-adc2-72ad5894b2f1",
   "metadata": {
    "tags": []
   },
   "outputs": [
    {
     "data": {
      "text/plain": [
       "array([[0.7953],\n",
       "       [0.8065],\n",
       "       [0.8054],\n",
       "       ...,\n",
       "       [0.7983],\n",
       "       [0.8117],\n",
       "       [0.8206]])"
      ]
     },
     "execution_count": 47,
     "metadata": {},
     "output_type": "execute_result"
    }
   ],
   "source": [
    "y"
   ]
  },
  {
   "cell_type": "code",
   "execution_count": 48,
   "id": "e29c0cf4-ddad-4f44-85d0-d958eab2f9fc",
   "metadata": {
    "tags": []
   },
   "outputs": [],
   "source": [
    "x_train, x_test, y_train, y_test = train_test_split(x, y, test_size=0.3, random_state=0)"
   ]
  },
  {
   "cell_type": "code",
   "execution_count": 49,
   "id": "6eb6a8bc-9a2c-40c1-87cd-13e5ffdaa28f",
   "metadata": {
    "tags": []
   },
   "outputs": [],
   "source": [
    "regression = LinearRegression()"
   ]
  },
  {
   "cell_type": "code",
   "execution_count": 50,
   "id": "9ea7f4f5-3152-4ef9-b532-69e6909af266",
   "metadata": {
    "tags": []
   },
   "outputs": [
    {
     "data": {
      "text/html": [
       "<style>#sk-container-id-1 {color: black;background-color: white;}#sk-container-id-1 pre{padding: 0;}#sk-container-id-1 div.sk-toggleable {background-color: white;}#sk-container-id-1 label.sk-toggleable__label {cursor: pointer;display: block;width: 100%;margin-bottom: 0;padding: 0.3em;box-sizing: border-box;text-align: center;}#sk-container-id-1 label.sk-toggleable__label-arrow:before {content: \"▸\";float: left;margin-right: 0.25em;color: #696969;}#sk-container-id-1 label.sk-toggleable__label-arrow:hover:before {color: black;}#sk-container-id-1 div.sk-estimator:hover label.sk-toggleable__label-arrow:before {color: black;}#sk-container-id-1 div.sk-toggleable__content {max-height: 0;max-width: 0;overflow: hidden;text-align: left;background-color: #f0f8ff;}#sk-container-id-1 div.sk-toggleable__content pre {margin: 0.2em;color: black;border-radius: 0.25em;background-color: #f0f8ff;}#sk-container-id-1 input.sk-toggleable__control:checked~div.sk-toggleable__content {max-height: 200px;max-width: 100%;overflow: auto;}#sk-container-id-1 input.sk-toggleable__control:checked~label.sk-toggleable__label-arrow:before {content: \"▾\";}#sk-container-id-1 div.sk-estimator input.sk-toggleable__control:checked~label.sk-toggleable__label {background-color: #d4ebff;}#sk-container-id-1 div.sk-label input.sk-toggleable__control:checked~label.sk-toggleable__label {background-color: #d4ebff;}#sk-container-id-1 input.sk-hidden--visually {border: 0;clip: rect(1px 1px 1px 1px);clip: rect(1px, 1px, 1px, 1px);height: 1px;margin: -1px;overflow: hidden;padding: 0;position: absolute;width: 1px;}#sk-container-id-1 div.sk-estimator {font-family: monospace;background-color: #f0f8ff;border: 1px dotted black;border-radius: 0.25em;box-sizing: border-box;margin-bottom: 0.5em;}#sk-container-id-1 div.sk-estimator:hover {background-color: #d4ebff;}#sk-container-id-1 div.sk-parallel-item::after {content: \"\";width: 100%;border-bottom: 1px solid gray;flex-grow: 1;}#sk-container-id-1 div.sk-label:hover label.sk-toggleable__label {background-color: #d4ebff;}#sk-container-id-1 div.sk-serial::before {content: \"\";position: absolute;border-left: 1px solid gray;box-sizing: border-box;top: 0;bottom: 0;left: 50%;z-index: 0;}#sk-container-id-1 div.sk-serial {display: flex;flex-direction: column;align-items: center;background-color: white;padding-right: 0.2em;padding-left: 0.2em;position: relative;}#sk-container-id-1 div.sk-item {position: relative;z-index: 1;}#sk-container-id-1 div.sk-parallel {display: flex;align-items: stretch;justify-content: center;background-color: white;position: relative;}#sk-container-id-1 div.sk-item::before, #sk-container-id-1 div.sk-parallel-item::before {content: \"\";position: absolute;border-left: 1px solid gray;box-sizing: border-box;top: 0;bottom: 0;left: 50%;z-index: -1;}#sk-container-id-1 div.sk-parallel-item {display: flex;flex-direction: column;z-index: 1;position: relative;background-color: white;}#sk-container-id-1 div.sk-parallel-item:first-child::after {align-self: flex-end;width: 50%;}#sk-container-id-1 div.sk-parallel-item:last-child::after {align-self: flex-start;width: 50%;}#sk-container-id-1 div.sk-parallel-item:only-child::after {width: 0;}#sk-container-id-1 div.sk-dashed-wrapped {border: 1px dashed gray;margin: 0 0.4em 0.5em 0.4em;box-sizing: border-box;padding-bottom: 0.4em;background-color: white;}#sk-container-id-1 div.sk-label label {font-family: monospace;font-weight: bold;display: inline-block;line-height: 1.2em;}#sk-container-id-1 div.sk-label-container {text-align: center;}#sk-container-id-1 div.sk-container {/* jupyter's `normalize.less` sets `[hidden] { display: none; }` but bootstrap.min.css set `[hidden] { display: none !important; }` so we also need the `!important` here to be able to override the default hidden behavior on the sphinx rendered scikit-learn.org. See: https://github.com/scikit-learn/scikit-learn/issues/21755 */display: inline-block !important;position: relative;}#sk-container-id-1 div.sk-text-repr-fallback {display: none;}</style><div id=\"sk-container-id-1\" class=\"sk-top-container\"><div class=\"sk-text-repr-fallback\"><pre>LinearRegression()</pre><b>In a Jupyter environment, please rerun this cell to show the HTML representation or trust the notebook. <br />On GitHub, the HTML representation is unable to render, please try loading this page with nbviewer.org.</b></div><div class=\"sk-container\" hidden><div class=\"sk-item\"><div class=\"sk-estimator sk-toggleable\"><input class=\"sk-toggleable__control sk-hidden--visually\" id=\"sk-estimator-id-1\" type=\"checkbox\" checked><label for=\"sk-estimator-id-1\" class=\"sk-toggleable__label sk-toggleable__label-arrow\">LinearRegression</label><div class=\"sk-toggleable__content\"><pre>LinearRegression()</pre></div></div></div></div></div>"
      ],
      "text/plain": [
       "LinearRegression()"
      ]
     },
     "execution_count": 50,
     "metadata": {},
     "output_type": "execute_result"
    }
   ],
   "source": [
    "regression.fit(x_train, y_train)"
   ]
  },
  {
   "cell_type": "code",
   "execution_count": 51,
   "id": "d0ddeb3e-edaa-4c46-a2e1-49aa7aa203d2",
   "metadata": {
    "tags": []
   },
   "outputs": [],
   "source": [
    "y_predicted = regression.predict(x_test)"
   ]
  },
  {
   "cell_type": "code",
   "execution_count": 52,
   "id": "1152d591-09fa-4032-ada6-477edefcc0c1",
   "metadata": {
    "tags": []
   },
   "outputs": [
    {
     "data": {
      "image/png": "[encoded data removed]",
      "text/plain": [
       "<Figure size 640x480 with 1 Axes>"
      ]
     },
     "metadata": {},
     "output_type": "display_data"
    }
   ],
   "source": [
    "plot_test = plt\n",
    "plot_test.scatter(x_test, y_test, color='gray', s = 15)\n",
    "plot_test.plot(x_test, y_predicted, color='red', linewidth =3)\n",
    "plot_test.title('Rating by year')\n",
    "plot_test.xlabel('year')\n",
    "plot_test.ylabel('rating')\n",
    "plot_test.show()"
   ]
  },
  {
   "cell_type": "code",
   "execution_count": 53,
   "id": "7ccd93c5-ac96-4684-abaf-c995f5579a21",
   "metadata": {
    "tags": []
   },
   "outputs": [],
   "source": [
    "rmse = mean_squared_error(y_test, y_predicted)\n",
    "r2 = r2_score(y_test, y_predicted) "
   ]
  },
  {
   "cell_type": "code",
   "execution_count": 54,
   "id": "9b223ad8-c4ed-4ed8-8d62-74e46ab4d3db",
   "metadata": {
    "tags": []
   },
   "outputs": [
    {
     "name": "stdout",
     "output_type": "stream",
     "text": [
      "Slope: [[0.00653067]]\n",
      "Mean squared error:  0.002242166332399361\n",
      "R2 score:  0.03447005545930126\n"
     ]
    }
   ],
   "source": [
    "print('Slope:' ,regression.coef_)\n",
    "print('Mean squared error: ', rmse)\n",
    "print('R2 score: ', r2)"
   ]
  },
  {
   "cell_type": "code",
   "execution_count": 55,
   "id": "9b408bf7-6410-417e-9579-0e374f6f62a9",
   "metadata": {
    "tags": []
   },
   "outputs": [
    {
     "data": {
      "text/html": [
       "<div>\n",
       "<style scoped>\n",
       "    .dataframe tbody tr th:only-of-type {\n",
       "        vertical-align: middle;\n",
       "    }\n",
       "\n",
       "    .dataframe tbody tr th {\n",
       "        vertical-align: top;\n",
       "    }\n",
       "\n",
       "    .dataframe thead th {\n",
       "        text-align: right;\n",
       "    }\n",
       "</style>\n",
       "<table border=\"1\" class=\"dataframe\">\n",
       "  <thead>\n",
       "    <tr style=\"text-align: right;\">\n",
       "      <th></th>\n",
       "      <th>Actual</th>\n",
       "      <th>Predicted</th>\n",
       "    </tr>\n",
       "  </thead>\n",
       "  <tbody>\n",
       "    <tr>\n",
       "      <th>0</th>\n",
       "      <td>0.8735</td>\n",
       "      <td>0.841479</td>\n",
       "    </tr>\n",
       "    <tr>\n",
       "      <th>1</th>\n",
       "      <td>0.8499</td>\n",
       "      <td>0.841479</td>\n",
       "    </tr>\n",
       "    <tr>\n",
       "      <th>2</th>\n",
       "      <td>0.9877</td>\n",
       "      <td>0.841479</td>\n",
       "    </tr>\n",
       "    <tr>\n",
       "      <th>3</th>\n",
       "      <td>0.8234</td>\n",
       "      <td>0.841479</td>\n",
       "    </tr>\n",
       "    <tr>\n",
       "      <th>4</th>\n",
       "      <td>0.8204</td>\n",
       "      <td>0.834948</td>\n",
       "    </tr>\n",
       "    <tr>\n",
       "      <th>5</th>\n",
       "      <td>0.8464</td>\n",
       "      <td>0.854540</td>\n",
       "    </tr>\n",
       "    <tr>\n",
       "      <th>6</th>\n",
       "      <td>0.7583</td>\n",
       "      <td>0.834948</td>\n",
       "    </tr>\n",
       "    <tr>\n",
       "      <th>7</th>\n",
       "      <td>0.8748</td>\n",
       "      <td>0.861071</td>\n",
       "    </tr>\n",
       "    <tr>\n",
       "      <th>8</th>\n",
       "      <td>0.8089</td>\n",
       "      <td>0.861071</td>\n",
       "    </tr>\n",
       "    <tr>\n",
       "      <th>9</th>\n",
       "      <td>0.8269</td>\n",
       "      <td>0.834948</td>\n",
       "    </tr>\n",
       "    <tr>\n",
       "      <th>10</th>\n",
       "      <td>0.8877</td>\n",
       "      <td>0.854540</td>\n",
       "    </tr>\n",
       "    <tr>\n",
       "      <th>11</th>\n",
       "      <td>0.8259</td>\n",
       "      <td>0.848010</td>\n",
       "    </tr>\n",
       "    <tr>\n",
       "      <th>12</th>\n",
       "      <td>0.8051</td>\n",
       "      <td>0.854540</td>\n",
       "    </tr>\n",
       "    <tr>\n",
       "      <th>13</th>\n",
       "      <td>0.8586</td>\n",
       "      <td>0.854540</td>\n",
       "    </tr>\n",
       "    <tr>\n",
       "      <th>14</th>\n",
       "      <td>0.8400</td>\n",
       "      <td>0.834948</td>\n",
       "    </tr>\n",
       "    <tr>\n",
       "      <th>15</th>\n",
       "      <td>0.8685</td>\n",
       "      <td>0.861071</td>\n",
       "    </tr>\n",
       "    <tr>\n",
       "      <th>16</th>\n",
       "      <td>0.8206</td>\n",
       "      <td>0.841479</td>\n",
       "    </tr>\n",
       "    <tr>\n",
       "      <th>17</th>\n",
       "      <td>0.8355</td>\n",
       "      <td>0.848010</td>\n",
       "    </tr>\n",
       "    <tr>\n",
       "      <th>18</th>\n",
       "      <td>0.9071</td>\n",
       "      <td>0.848010</td>\n",
       "    </tr>\n",
       "    <tr>\n",
       "      <th>19</th>\n",
       "      <td>0.8755</td>\n",
       "      <td>0.848010</td>\n",
       "    </tr>\n",
       "    <tr>\n",
       "      <th>20</th>\n",
       "      <td>0.7397</td>\n",
       "      <td>0.834948</td>\n",
       "    </tr>\n",
       "    <tr>\n",
       "      <th>21</th>\n",
       "      <td>0.7530</td>\n",
       "      <td>0.854540</td>\n",
       "    </tr>\n",
       "    <tr>\n",
       "      <th>22</th>\n",
       "      <td>0.8742</td>\n",
       "      <td>0.848010</td>\n",
       "    </tr>\n",
       "    <tr>\n",
       "      <th>23</th>\n",
       "      <td>0.8964</td>\n",
       "      <td>0.848010</td>\n",
       "    </tr>\n",
       "    <tr>\n",
       "      <th>24</th>\n",
       "      <td>0.9571</td>\n",
       "      <td>0.854540</td>\n",
       "    </tr>\n",
       "    <tr>\n",
       "      <th>25</th>\n",
       "      <td>0.8378</td>\n",
       "      <td>0.854540</td>\n",
       "    </tr>\n",
       "    <tr>\n",
       "      <th>26</th>\n",
       "      <td>0.8986</td>\n",
       "      <td>0.841479</td>\n",
       "    </tr>\n",
       "    <tr>\n",
       "      <th>27</th>\n",
       "      <td>0.8797</td>\n",
       "      <td>0.834948</td>\n",
       "    </tr>\n",
       "    <tr>\n",
       "      <th>28</th>\n",
       "      <td>0.8435</td>\n",
       "      <td>0.848010</td>\n",
       "    </tr>\n",
       "    <tr>\n",
       "      <th>29</th>\n",
       "      <td>0.8775</td>\n",
       "      <td>0.841479</td>\n",
       "    </tr>\n",
       "  </tbody>\n",
       "</table>\n",
       "</div>"
      ],
      "text/plain": [
       "    Actual  Predicted\n",
       "0   0.8735   0.841479\n",
       "1   0.8499   0.841479\n",
       "2   0.9877   0.841479\n",
       "3   0.8234   0.841479\n",
       "4   0.8204   0.834948\n",
       "5   0.8464   0.854540\n",
       "6   0.7583   0.834948\n",
       "7   0.8748   0.861071\n",
       "8   0.8089   0.861071\n",
       "9   0.8269   0.834948\n",
       "10  0.8877   0.854540\n",
       "11  0.8259   0.848010\n",
       "12  0.8051   0.854540\n",
       "13  0.8586   0.854540\n",
       "14  0.8400   0.834948\n",
       "15  0.8685   0.861071\n",
       "16  0.8206   0.841479\n",
       "17  0.8355   0.848010\n",
       "18  0.9071   0.848010\n",
       "19  0.8755   0.848010\n",
       "20  0.7397   0.834948\n",
       "21  0.7530   0.854540\n",
       "22  0.8742   0.848010\n",
       "23  0.8964   0.848010\n",
       "24  0.9571   0.854540\n",
       "25  0.8378   0.854540\n",
       "26  0.8986   0.841479\n",
       "27  0.8797   0.834948\n",
       "28  0.8435   0.848010\n",
       "29  0.8775   0.841479"
      ]
     },
     "execution_count": 55,
     "metadata": {},
     "output_type": "execute_result"
    }
   ],
   "source": [
    "data = pd.DataFrame({'Actual': y_test.flatten(), 'Predicted': y_predicted.flatten()})\n",
    "data.head(30)"
   ]
  },
  {
   "cell_type": "markdown",
   "id": "2c9ec627-5f3e-45b4-97c1-ded77e89cdac",
   "metadata": {},
   "source": [
    "## This model did not perform very well on this test as R2 score was .03 away from the actual rating score on average. While this may not seem like a lot it could mean a recruit is more than 100 spots from their actual ranking."
   ]
  },
  {
   "cell_type": "code",
   "execution_count": null,
   "id": "40f43e30-223a-45cd-80dd-c8a4a1b615fe",
   "metadata": {},
   "outputs": [],
   "source": []
  }
 ],
 "metadata": {
  "kernelspec": {
   "display_name": "Python 3 (ipykernel)",
   "language": "python",
   "name": "python3"
  },
  "language_info": {
   "codemirror_mode": {
    "name": "ipython",
    "version": 3
   },
   "file_extension": ".py",
   "mimetype": "text/x-python",
   "name": "python",
   "nbconvert_exporter": "python",
   "pygments_lexer": "ipython3",
   "version": "3.10.9"
  }
 },
 "nbformat": 4,
 "nbformat_minor": 5
}
