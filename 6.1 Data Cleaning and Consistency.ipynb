{
 "cells": [
  {
   "cell_type": "markdown",
   "id": "c95b24ea-961c-4d29-bc31-82d72d7160bb",
   "metadata": {},
   "source": [
    "# Import libraries"
   ]
  },
  {
   "cell_type": "code",
   "execution_count": 1,
   "id": "bbc6e01e-74db-43df-89ad-b01682df06c8",
   "metadata": {},
   "outputs": [],
   "source": [
    "import pandas as pd\n",
    "import numpy as np\n",
    "import os"
   ]
  },
  {
   "cell_type": "code",
   "execution_count": 2,
   "id": "1ef899ff-b2be-4990-9ce3-1360fdccb882",
   "metadata": {},
   "outputs": [],
   "source": [
    "path = r'C:\\Users\\justi\\OneDrive\\Documents\\Career foundry\\Data Immersion 6'"
   ]
  },
  {
   "cell_type": "code",
   "execution_count": 3,
   "id": "74b471f5-6ad2-4257-892a-13a185bc7307",
   "metadata": {},
   "outputs": [],
   "source": [
    "df_team_recruit = pd.read_csv(os.path.join(path, '02 Data', 'Prepared Data', 'recruits_team_f.csv'), index_col = False)"
   ]
  },
  {
   "cell_type": "code",
   "execution_count": 4,
   "id": "3128fe68-6863-423d-acbc-311041f7f8a3",
   "metadata": {},
   "outputs": [
    {
     "data": {
      "text/html": [
       "<div>\n",
       "<style scoped>\n",
       "    .dataframe tbody tr th:only-of-type {\n",
       "        vertical-align: middle;\n",
       "    }\n",
       "\n",
       "    .dataframe tbody tr th {\n",
       "        vertical-align: top;\n",
       "    }\n",
       "\n",
       "    .dataframe thead th {\n",
       "        text-align: right;\n",
       "    }\n",
       "</style>\n",
       "<table border=\"1\" class=\"dataframe\">\n",
       "  <thead>\n",
       "    <tr style=\"text-align: right;\">\n",
       "      <th></th>\n",
       "      <th>Column1</th>\n",
       "      <th>year_x</th>\n",
       "      <th>rating</th>\n",
       "      <th>stars</th>\n",
       "      <th>id</th>\n",
       "      <th>athlete_id</th>\n",
       "      <th>year_y</th>\n",
       "      <th>games</th>\n",
       "      <th>win</th>\n",
       "      <th>loss</th>\n",
       "      <th>off_Rank</th>\n",
       "      <th>def_Rank</th>\n",
       "    </tr>\n",
       "  </thead>\n",
       "  <tbody>\n",
       "    <tr>\n",
       "      <th>count</th>\n",
       "      <td>13243.000000</td>\n",
       "      <td>13243.000000</td>\n",
       "      <td>13243.000000</td>\n",
       "      <td>13243.000000</td>\n",
       "      <td>13243.000000</td>\n",
       "      <td>1.324300e+04</td>\n",
       "      <td>13243.000000</td>\n",
       "      <td>13243.000000</td>\n",
       "      <td>13243.000000</td>\n",
       "      <td>13243.000000</td>\n",
       "      <td>13243.000000</td>\n",
       "      <td>13243.000000</td>\n",
       "    </tr>\n",
       "    <tr>\n",
       "      <th>mean</th>\n",
       "      <td>6621.000000</td>\n",
       "      <td>2019.784716</td>\n",
       "      <td>0.846442</td>\n",
       "      <td>3.016008</td>\n",
       "      <td>62354.143019</td>\n",
       "      <td>3.620011e+06</td>\n",
       "      <td>2019.784716</td>\n",
       "      <td>11.771577</td>\n",
       "      <td>6.314279</td>\n",
       "      <td>5.457298</td>\n",
       "      <td>64.484784</td>\n",
       "      <td>63.504040</td>\n",
       "    </tr>\n",
       "    <tr>\n",
       "      <th>std</th>\n",
       "      <td>3823.069142</td>\n",
       "      <td>1.362852</td>\n",
       "      <td>0.048942</td>\n",
       "      <td>0.583505</td>\n",
       "      <td>15796.332755</td>\n",
       "      <td>1.872966e+06</td>\n",
       "      <td>1.362852</td>\n",
       "      <td>2.286067</td>\n",
       "      <td>3.205163</td>\n",
       "      <td>2.560823</td>\n",
       "      <td>37.266013</td>\n",
       "      <td>37.673576</td>\n",
       "    </tr>\n",
       "    <tr>\n",
       "      <th>min</th>\n",
       "      <td>0.000000</td>\n",
       "      <td>2018.000000</td>\n",
       "      <td>0.699600</td>\n",
       "      <td>1.000000</td>\n",
       "      <td>42908.000000</td>\n",
       "      <td>-1.044072e+06</td>\n",
       "      <td>2018.000000</td>\n",
       "      <td>3.000000</td>\n",
       "      <td>0.000000</td>\n",
       "      <td>0.000000</td>\n",
       "      <td>1.000000</td>\n",
       "      <td>1.000000</td>\n",
       "    </tr>\n",
       "    <tr>\n",
       "      <th>25%</th>\n",
       "      <td>3310.500000</td>\n",
       "      <td>2019.000000</td>\n",
       "      <td>0.812400</td>\n",
       "      <td>3.000000</td>\n",
       "      <td>47490.500000</td>\n",
       "      <td>4.361324e+06</td>\n",
       "      <td>2019.000000</td>\n",
       "      <td>12.000000</td>\n",
       "      <td>4.000000</td>\n",
       "      <td>4.000000</td>\n",
       "      <td>33.000000</td>\n",
       "      <td>30.000000</td>\n",
       "    </tr>\n",
       "    <tr>\n",
       "      <th>50%</th>\n",
       "      <td>6621.000000</td>\n",
       "      <td>2020.000000</td>\n",
       "      <td>0.844000</td>\n",
       "      <td>3.000000</td>\n",
       "      <td>62342.000000</td>\n",
       "      <td>4.430114e+06</td>\n",
       "      <td>2020.000000</td>\n",
       "      <td>12.000000</td>\n",
       "      <td>6.000000</td>\n",
       "      <td>6.000000</td>\n",
       "      <td>64.000000</td>\n",
       "      <td>63.000000</td>\n",
       "    </tr>\n",
       "    <tr>\n",
       "      <th>75%</th>\n",
       "      <td>9931.500000</td>\n",
       "      <td>2021.000000</td>\n",
       "      <td>0.871650</td>\n",
       "      <td>3.000000</td>\n",
       "      <td>72725.500000</td>\n",
       "      <td>4.683166e+06</td>\n",
       "      <td>2021.000000</td>\n",
       "      <td>13.000000</td>\n",
       "      <td>9.000000</td>\n",
       "      <td>7.000000</td>\n",
       "      <td>97.000000</td>\n",
       "      <td>96.000000</td>\n",
       "    </tr>\n",
       "    <tr>\n",
       "      <th>max</th>\n",
       "      <td>13242.000000</td>\n",
       "      <td>2022.000000</td>\n",
       "      <td>0.999900</td>\n",
       "      <td>5.000000</td>\n",
       "      <td>95141.000000</td>\n",
       "      <td>5.100583e+06</td>\n",
       "      <td>2022.000000</td>\n",
       "      <td>15.000000</td>\n",
       "      <td>15.000000</td>\n",
       "      <td>12.000000</td>\n",
       "      <td>131.000000</td>\n",
       "      <td>131.000000</td>\n",
       "    </tr>\n",
       "  </tbody>\n",
       "</table>\n",
       "</div>"
      ],
      "text/plain": [
       "            Column1        year_x        rating         stars            id  \\\n",
       "count  13243.000000  13243.000000  13243.000000  13243.000000  13243.000000   \n",
       "mean    6621.000000   2019.784716      0.846442      3.016008  62354.143019   \n",
       "std     3823.069142      1.362852      0.048942      0.583505  15796.332755   \n",
       "min        0.000000   2018.000000      0.699600      1.000000  42908.000000   \n",
       "25%     3310.500000   2019.000000      0.812400      3.000000  47490.500000   \n",
       "50%     6621.000000   2020.000000      0.844000      3.000000  62342.000000   \n",
       "75%     9931.500000   2021.000000      0.871650      3.000000  72725.500000   \n",
       "max    13242.000000   2022.000000      0.999900      5.000000  95141.000000   \n",
       "\n",
       "         athlete_id        year_y         games           win          loss  \\\n",
       "count  1.324300e+04  13243.000000  13243.000000  13243.000000  13243.000000   \n",
       "mean   3.620011e+06   2019.784716     11.771577      6.314279      5.457298   \n",
       "std    1.872966e+06      1.362852      2.286067      3.205163      2.560823   \n",
       "min   -1.044072e+06   2018.000000      3.000000      0.000000      0.000000   \n",
       "25%    4.361324e+06   2019.000000     12.000000      4.000000      4.000000   \n",
       "50%    4.430114e+06   2020.000000     12.000000      6.000000      6.000000   \n",
       "75%    4.683166e+06   2021.000000     13.000000      9.000000      7.000000   \n",
       "max    5.100583e+06   2022.000000     15.000000     15.000000     12.000000   \n",
       "\n",
       "           off_Rank      def_Rank  \n",
       "count  13243.000000  13243.000000  \n",
       "mean      64.484784     63.504040  \n",
       "std       37.266013     37.673576  \n",
       "min        1.000000      1.000000  \n",
       "25%       33.000000     30.000000  \n",
       "50%       64.000000     63.000000  \n",
       "75%       97.000000     96.000000  \n",
       "max      131.000000    131.000000  "
      ]
     },
     "execution_count": 4,
     "metadata": {},
     "output_type": "execute_result"
    }
   ],
   "source": [
    "df_team_recruit.describe()"
   ]
  },
  {
   "cell_type": "code",
   "execution_count": 5,
   "id": "2c3340d1-657f-4329-9a51-e76f5218d433",
   "metadata": {},
   "outputs": [
    {
     "data": {
      "text/plain": [
       "(13243, 27)"
      ]
     },
     "execution_count": 5,
     "metadata": {},
     "output_type": "execute_result"
    }
   ],
   "source": [
    "df_team_recruit.shape"
   ]
  },
  {
   "cell_type": "code",
   "execution_count": 6,
   "id": "38233524-e33d-45f9-925d-2648f2c739ff",
   "metadata": {},
   "outputs": [
    {
     "data": {
      "text/plain": [
       "Index(['Column1', 'primary_key', 'year_x', 'name', 'position', 'school',\n",
       "       'ranking', 'rating', 'stars', 'committed_to', 'recruit_type', 'height',\n",
       "       'weight', 'city', 'state', 'country', 'id', 'athlete_id', 'year_y',\n",
       "       'team', 'conference', 'games', 'win', 'loss', 'off_Rank', 'def_Rank',\n",
       "       '_merge'],\n",
       "      dtype='object')"
      ]
     },
     "execution_count": 6,
     "metadata": {},
     "output_type": "execute_result"
    }
   ],
   "source": [
    "df_team_recruit.columns"
   ]
  },
  {
   "cell_type": "code",
   "execution_count": 7,
   "id": "c5b714dd-b7fb-4f72-b211-086dc076374c",
   "metadata": {},
   "outputs": [],
   "source": [
    "df_team_recruit.rename(columns = {'year_x' : 'freshman_year'}, inplace = True)"
   ]
  },
  {
   "cell_type": "code",
   "execution_count": 8,
   "id": "c8b53761-e382-4b91-8c58-b951cee9f0ba",
   "metadata": {},
   "outputs": [],
   "source": [
    "df_team_recruit.rename(columns = {'school' : 'high_school'}, inplace = True)"
   ]
  },
  {
   "cell_type": "code",
   "execution_count": 9,
   "id": "a1beae5f-9cb6-4128-b5b0-8bc9d9bd6581",
   "metadata": {},
   "outputs": [],
   "source": [
    "df_team_recruit.rename(columns = {'city' : 'high_school_city'}, inplace = True)"
   ]
  },
  {
   "cell_type": "code",
   "execution_count": 10,
   "id": "34787bc2-7a7a-47a9-8230-b874c9b038f2",
   "metadata": {},
   "outputs": [],
   "source": [
    "df_team_recruit.rename(columns = {'state' : 'high_school_state'}, inplace = True)"
   ]
  },
  {
   "cell_type": "code",
   "execution_count": 11,
   "id": "ffbef08e-ba5d-4697-b2a8-01bf1d08dcab",
   "metadata": {},
   "outputs": [],
   "source": [
    "df_team_recruit.rename(columns = {'country' : 'high_school_country'}, inplace = True)"
   ]
  },
  {
   "cell_type": "code",
   "execution_count": 12,
   "id": "e67eff77-6784-4909-b5af-c258c1d3bb05",
   "metadata": {},
   "outputs": [],
   "source": [
    "df_team_recruit.rename(columns = {'year_y' : 'ncaa_year'}, inplace = True)"
   ]
  },
  {
   "cell_type": "code",
   "execution_count": 13,
   "id": "bc818a9e-ce40-40ea-ae45-1d700a80eadf",
   "metadata": {},
   "outputs": [],
   "source": [
    "df_team_recruit.rename(columns = {'team' : 'ncaa_team'}, inplace = True)"
   ]
  },
  {
   "cell_type": "code",
   "execution_count": 14,
   "id": "bf26bdd2-54f2-4d42-a68e-0d4aefde0433",
   "metadata": {},
   "outputs": [],
   "source": [
    "df_team_recruit.rename(columns = {'games' : 'total_games'}, inplace = True)"
   ]
  },
  {
   "cell_type": "code",
   "execution_count": 57,
   "id": "1004caa1-44b3-4b24-90c2-e1a327de565f",
   "metadata": {},
   "outputs": [],
   "source": [
    "df_team_recruit.rename(columns = {'off_Rank' : 'off_rank'}, inplace = True)"
   ]
  },
  {
   "cell_type": "code",
   "execution_count": 58,
   "id": "87a0e774-fc62-42ed-85dd-4a73e14633e6",
   "metadata": {},
   "outputs": [],
   "source": [
    "df_team_recruit.rename(columns = {'def_Rank' : 'def_rank'}, inplace = True)"
   ]
  },
  {
   "cell_type": "code",
   "execution_count": 15,
   "id": "e9141c7c-b386-4e91-b2be-f0029f3ccdad",
   "metadata": {},
   "outputs": [
    {
     "data": {
      "text/plain": [
       "Column1                  int64\n",
       "primary_key             object\n",
       "freshman_year            int64\n",
       "name                    object\n",
       "position                object\n",
       "high_school             object\n",
       "ranking                 object\n",
       "rating                 float64\n",
       "stars                    int64\n",
       "committed_to            object\n",
       "recruit_type            object\n",
       "height                  object\n",
       "weight                  object\n",
       "high_school_city        object\n",
       "high_school_state       object\n",
       "high_school_country     object\n",
       "id                       int64\n",
       "athlete_id               int64\n",
       "ncaa_year                int64\n",
       "ncaa_team               object\n",
       "conference              object\n",
       "total_games              int64\n",
       "win                      int64\n",
       "loss                     int64\n",
       "off_Rank                 int64\n",
       "def_Rank                 int64\n",
       "_merge                  object\n",
       "dtype: object"
      ]
     },
     "execution_count": 15,
     "metadata": {},
     "output_type": "execute_result"
    }
   ],
   "source": [
    "df_team_recruit.dtypes"
   ]
  },
  {
   "cell_type": "code",
   "execution_count": 16,
   "id": "bec28656-740f-4e08-bba8-a8dccfef874d",
   "metadata": {},
   "outputs": [],
   "source": [
    "df_team_recruit['primary_key'] = df_team_recruit['primary_key'].astype('str')"
   ]
  },
  {
   "cell_type": "code",
   "execution_count": 17,
   "id": "7e92edbd-f225-4e6d-aa24-c4153d60fc23",
   "metadata": {},
   "outputs": [],
   "source": [
    "df_team_recruit['name'] = df_team_recruit['name'].astype('str')"
   ]
  },
  {
   "cell_type": "code",
   "execution_count": 18,
   "id": "e1f86e42-5688-465f-ab49-0b903bd1d051",
   "metadata": {},
   "outputs": [],
   "source": [
    "df_team_recruit['position'] = df_team_recruit['position'].astype('str')"
   ]
  },
  {
   "cell_type": "code",
   "execution_count": 19,
   "id": "a9a6104a-3fc9-4a1e-9c93-14d18b31fddb",
   "metadata": {},
   "outputs": [],
   "source": [
    "df_team_recruit['high_school'] = df_team_recruit['high_school'].astype('str')"
   ]
  },
  {
   "cell_type": "code",
   "execution_count": 20,
   "id": "3f39b3db-f188-4861-8b7b-ac780330032e",
   "metadata": {},
   "outputs": [],
   "source": [
    "df_team_recruit['committed_to'] = df_team_recruit['committed_to'].astype('str')"
   ]
  },
  {
   "cell_type": "code",
   "execution_count": 21,
   "id": "68ad1fab-d6d0-48b8-bc31-cd7eed053b50",
   "metadata": {},
   "outputs": [],
   "source": [
    "df_team_recruit['recruit_type'] = df_team_recruit['recruit_type'].astype('str')"
   ]
  },
  {
   "cell_type": "code",
   "execution_count": 22,
   "id": "674b8958-2898-44d5-8437-3760ed390bfb",
   "metadata": {},
   "outputs": [],
   "source": [
    "df_team_recruit['high_school_city'] = df_team_recruit['high_school_city'].astype('str')"
   ]
  },
  {
   "cell_type": "code",
   "execution_count": 23,
   "id": "1ef1321e-0fe4-4920-99f1-deba07343527",
   "metadata": {},
   "outputs": [],
   "source": [
    "df_team_recruit['high_school_state'] = df_team_recruit['high_school_state'].astype('str')"
   ]
  },
  {
   "cell_type": "code",
   "execution_count": 24,
   "id": "21ecfd96-71ec-4cd8-aa35-d771ddee5b85",
   "metadata": {},
   "outputs": [],
   "source": [
    "df_team_recruit['high_school_country'] = df_team_recruit['high_school_country'].astype('str')"
   ]
  },
  {
   "cell_type": "code",
   "execution_count": 25,
   "id": "51b5d20e-d306-4476-890a-46cd2967210a",
   "metadata": {},
   "outputs": [],
   "source": [
    "df_team_recruit['ncaa_team'] = df_team_recruit['ncaa_team'].astype('str')"
   ]
  },
  {
   "cell_type": "code",
   "execution_count": 26,
   "id": "078245c3-34dc-42c3-825d-ad189f063597",
   "metadata": {},
   "outputs": [],
   "source": [
    "df_team_recruit['conference'] = df_team_recruit['conference'].astype('str')"
   ]
  },
  {
   "cell_type": "code",
   "execution_count": 27,
   "id": "80a5e9da-f589-4798-803b-665cdb84d73d",
   "metadata": {},
   "outputs": [
    {
     "data": {
      "text/plain": [
       "Column1                0\n",
       "primary_key            0\n",
       "freshman_year          0\n",
       "name                   0\n",
       "position               0\n",
       "high_school            0\n",
       "ranking                0\n",
       "rating                 0\n",
       "stars                  0\n",
       "committed_to           0\n",
       "recruit_type           0\n",
       "height                 0\n",
       "weight                 0\n",
       "high_school_city       0\n",
       "high_school_state      0\n",
       "high_school_country    0\n",
       "id                     0\n",
       "athlete_id             0\n",
       "ncaa_year              0\n",
       "ncaa_team              0\n",
       "conference             0\n",
       "total_games            0\n",
       "win                    0\n",
       "loss                   0\n",
       "off_Rank               0\n",
       "def_Rank               0\n",
       "_merge                 0\n",
       "dtype: int64"
      ]
     },
     "execution_count": 27,
     "metadata": {},
     "output_type": "execute_result"
    }
   ],
   "source": [
    "df_team_recruit.isnull().sum()"
   ]
  },
  {
   "cell_type": "code",
   "execution_count": 38,
   "id": "23bd8e27-d832-40d9-ad47-f3e4ebbb1b79",
   "metadata": {},
   "outputs": [],
   "source": [
    "df_team_recruit = df_team_recruit.drop(columns = ['_merge'])"
   ]
  },
  {
   "cell_type": "code",
   "execution_count": 48,
   "id": "31a1a5d9-88c0-49ab-b6b5-d07b68b2b930",
   "metadata": {},
   "outputs": [],
   "source": [
    "df_team_recruit = df_team_recruit.drop(columns = ['ranking'])"
   ]
  },
  {
   "cell_type": "code",
   "execution_count": 59,
   "id": "571e1760-c97e-488c-8045-49b847ef11d8",
   "metadata": {},
   "outputs": [],
   "source": [
    "df_dups = df_team_recruit[df_team_recruit.duplicated()]"
   ]
  },
  {
   "cell_type": "code",
   "execution_count": 60,
   "id": "dfb4564d-caf0-4c93-b9b1-6c250f2dcc55",
   "metadata": {},
   "outputs": [
    {
     "data": {
      "text/html": [
       "<div>\n",
       "<style scoped>\n",
       "    .dataframe tbody tr th:only-of-type {\n",
       "        vertical-align: middle;\n",
       "    }\n",
       "\n",
       "    .dataframe tbody tr th {\n",
       "        vertical-align: top;\n",
       "    }\n",
       "\n",
       "    .dataframe thead th {\n",
       "        text-align: right;\n",
       "    }\n",
       "</style>\n",
       "<table border=\"1\" class=\"dataframe\">\n",
       "  <thead>\n",
       "    <tr style=\"text-align: right;\">\n",
       "      <th></th>\n",
       "      <th>Column1</th>\n",
       "      <th>primary_key</th>\n",
       "      <th>freshman_year</th>\n",
       "      <th>name</th>\n",
       "      <th>position</th>\n",
       "      <th>high_school</th>\n",
       "      <th>rating</th>\n",
       "      <th>stars</th>\n",
       "      <th>committed_to</th>\n",
       "      <th>recruit_type</th>\n",
       "      <th>...</th>\n",
       "      <th>id</th>\n",
       "      <th>athlete_id</th>\n",
       "      <th>ncaa_year</th>\n",
       "      <th>ncaa_team</th>\n",
       "      <th>conference</th>\n",
       "      <th>total_games</th>\n",
       "      <th>win</th>\n",
       "      <th>loss</th>\n",
       "      <th>off_rank</th>\n",
       "      <th>def_rank</th>\n",
       "    </tr>\n",
       "  </thead>\n",
       "  <tbody>\n",
       "  </tbody>\n",
       "</table>\n",
       "<p>0 rows × 25 columns</p>\n",
       "</div>"
      ],
      "text/plain": [
       "Empty DataFrame\n",
       "Columns: [Column1, primary_key, freshman_year, name, position, high_school, rating, stars, committed_to, recruit_type, height, weight, high_school_city, high_school_state, high_school_country, id, athlete_id, ncaa_year, ncaa_team, conference, total_games, win, loss, off_rank, def_rank]\n",
       "Index: []\n",
       "\n",
       "[0 rows x 25 columns]"
      ]
     },
     "execution_count": 60,
     "metadata": {},
     "output_type": "execute_result"
    }
   ],
   "source": [
    "df_dups"
   ]
  },
  {
   "cell_type": "code",
   "execution_count": 61,
   "id": "5334f52e-1db8-431b-89af-4f137a21fb8c",
   "metadata": {},
   "outputs": [],
   "source": [
    "df_ath_dups = df_team_recruit[df_team_recruit.duplicated('athlete_id')]"
   ]
  },
  {
   "cell_type": "code",
   "execution_count": 62,
   "id": "022324de-10d6-414b-9121-b956ce59d178",
   "metadata": {},
   "outputs": [
    {
     "data": {
      "text/html": [
       "<div>\n",
       "<style scoped>\n",
       "    .dataframe tbody tr th:only-of-type {\n",
       "        vertical-align: middle;\n",
       "    }\n",
       "\n",
       "    .dataframe tbody tr th {\n",
       "        vertical-align: top;\n",
       "    }\n",
       "\n",
       "    .dataframe thead th {\n",
       "        text-align: right;\n",
       "    }\n",
       "</style>\n",
       "<table border=\"1\" class=\"dataframe\">\n",
       "  <thead>\n",
       "    <tr style=\"text-align: right;\">\n",
       "      <th></th>\n",
       "      <th>Column1</th>\n",
       "      <th>primary_key</th>\n",
       "      <th>freshman_year</th>\n",
       "      <th>name</th>\n",
       "      <th>position</th>\n",
       "      <th>high_school</th>\n",
       "      <th>rating</th>\n",
       "      <th>stars</th>\n",
       "      <th>committed_to</th>\n",
       "      <th>recruit_type</th>\n",
       "      <th>...</th>\n",
       "      <th>id</th>\n",
       "      <th>athlete_id</th>\n",
       "      <th>ncaa_year</th>\n",
       "      <th>ncaa_team</th>\n",
       "      <th>conference</th>\n",
       "      <th>total_games</th>\n",
       "      <th>win</th>\n",
       "      <th>loss</th>\n",
       "      <th>off_rank</th>\n",
       "      <th>def_rank</th>\n",
       "    </tr>\n",
       "  </thead>\n",
       "  <tbody>\n",
       "    <tr>\n",
       "      <th>138</th>\n",
       "      <td>138</td>\n",
       "      <td>2018, Arkansas</td>\n",
       "      <td>2018</td>\n",
       "      <td>Michael Woods</td>\n",
       "      <td>WR</td>\n",
       "      <td>Magnolia</td>\n",
       "      <td>0.8756</td>\n",
       "      <td>3</td>\n",
       "      <td>Arkansas</td>\n",
       "      <td>HighSchool</td>\n",
       "      <td>...</td>\n",
       "      <td>43447</td>\n",
       "      <td>4360174</td>\n",
       "      <td>2018</td>\n",
       "      <td>Arkansas</td>\n",
       "      <td>SEC</td>\n",
       "      <td>12</td>\n",
       "      <td>2</td>\n",
       "      <td>10</td>\n",
       "      <td>117</td>\n",
       "      <td>79</td>\n",
       "    </tr>\n",
       "    <tr>\n",
       "      <th>140</th>\n",
       "      <td>140</td>\n",
       "      <td>2018, Arkansas</td>\n",
       "      <td>2018</td>\n",
       "      <td>Joe Foucha</td>\n",
       "      <td>S</td>\n",
       "      <td>McDonogh 35</td>\n",
       "      <td>0.8721</td>\n",
       "      <td>3</td>\n",
       "      <td>Arkansas</td>\n",
       "      <td>HighSchool</td>\n",
       "      <td>...</td>\n",
       "      <td>67906</td>\n",
       "      <td>4371995</td>\n",
       "      <td>2018</td>\n",
       "      <td>Arkansas</td>\n",
       "      <td>SEC</td>\n",
       "      <td>12</td>\n",
       "      <td>2</td>\n",
       "      <td>10</td>\n",
       "      <td>117</td>\n",
       "      <td>79</td>\n",
       "    </tr>\n",
       "    <tr>\n",
       "      <th>469</th>\n",
       "      <td>469</td>\n",
       "      <td>2018, Cincinnati</td>\n",
       "      <td>2018</td>\n",
       "      <td>Arquon Bush</td>\n",
       "      <td>CB</td>\n",
       "      <td>Euclid</td>\n",
       "      <td>0.8646</td>\n",
       "      <td>3</td>\n",
       "      <td>Cincinnati</td>\n",
       "      <td>HighSchool</td>\n",
       "      <td>...</td>\n",
       "      <td>43637</td>\n",
       "      <td>4360067</td>\n",
       "      <td>2018</td>\n",
       "      <td>Cincinnati</td>\n",
       "      <td>AAC</td>\n",
       "      <td>13</td>\n",
       "      <td>11</td>\n",
       "      <td>2</td>\n",
       "      <td>23</td>\n",
       "      <td>11</td>\n",
       "    </tr>\n",
       "    <tr>\n",
       "      <th>511</th>\n",
       "      <td>511</td>\n",
       "      <td>2018, Coastal Carolina</td>\n",
       "      <td>2018</td>\n",
       "      <td>Tyrese Johnson-Fisher</td>\n",
       "      <td>ATH</td>\n",
       "      <td>Oakham School</td>\n",
       "      <td>0.8098</td>\n",
       "      <td>3</td>\n",
       "      <td>Coastal Carolina</td>\n",
       "      <td>HighSchool</td>\n",
       "      <td>...</td>\n",
       "      <td>44951</td>\n",
       "      <td>-1007607</td>\n",
       "      <td>2018</td>\n",
       "      <td>Coastal Carolina</td>\n",
       "      <td>Sun Belt</td>\n",
       "      <td>12</td>\n",
       "      <td>5</td>\n",
       "      <td>7</td>\n",
       "      <td>87</td>\n",
       "      <td>110</td>\n",
       "    </tr>\n",
       "    <tr>\n",
       "      <th>714</th>\n",
       "      <td>714</td>\n",
       "      <td>2018, Florida State</td>\n",
       "      <td>2018</td>\n",
       "      <td>Jaiden Lars-Woodbey</td>\n",
       "      <td>S</td>\n",
       "      <td>St. John Bosco</td>\n",
       "      <td>0.9814</td>\n",
       "      <td>4</td>\n",
       "      <td>Florida State</td>\n",
       "      <td>HighSchool</td>\n",
       "      <td>...</td>\n",
       "      <td>67893</td>\n",
       "      <td>4360468</td>\n",
       "      <td>2018</td>\n",
       "      <td>Florida State</td>\n",
       "      <td>ACC</td>\n",
       "      <td>12</td>\n",
       "      <td>5</td>\n",
       "      <td>7</td>\n",
       "      <td>102</td>\n",
       "      <td>80</td>\n",
       "    </tr>\n",
       "    <tr>\n",
       "      <th>...</th>\n",
       "      <td>...</td>\n",
       "      <td>...</td>\n",
       "      <td>...</td>\n",
       "      <td>...</td>\n",
       "      <td>...</td>\n",
       "      <td>...</td>\n",
       "      <td>...</td>\n",
       "      <td>...</td>\n",
       "      <td>...</td>\n",
       "      <td>...</td>\n",
       "      <td>...</td>\n",
       "      <td>...</td>\n",
       "      <td>...</td>\n",
       "      <td>...</td>\n",
       "      <td>...</td>\n",
       "      <td>...</td>\n",
       "      <td>...</td>\n",
       "      <td>...</td>\n",
       "      <td>...</td>\n",
       "      <td>...</td>\n",
       "      <td>...</td>\n",
       "    </tr>\n",
       "    <tr>\n",
       "      <th>12763</th>\n",
       "      <td>12763</td>\n",
       "      <td>2022, Syracuse</td>\n",
       "      <td>2022</td>\n",
       "      <td>Francois Nolton Jr.</td>\n",
       "      <td>DL</td>\n",
       "      <td>Edison</td>\n",
       "      <td>0.8752</td>\n",
       "      <td>3</td>\n",
       "      <td>Syracuse</td>\n",
       "      <td>HighSchool</td>\n",
       "      <td>...</td>\n",
       "      <td>94083</td>\n",
       "      <td>4686285</td>\n",
       "      <td>2022</td>\n",
       "      <td>Syracuse</td>\n",
       "      <td>ACC</td>\n",
       "      <td>13</td>\n",
       "      <td>7</td>\n",
       "      <td>6</td>\n",
       "      <td>76</td>\n",
       "      <td>21</td>\n",
       "    </tr>\n",
       "    <tr>\n",
       "      <th>12768</th>\n",
       "      <td>12768</td>\n",
       "      <td>2022, Syracuse</td>\n",
       "      <td>2022</td>\n",
       "      <td>Denis Jaquez Jr.</td>\n",
       "      <td>EDGE</td>\n",
       "      <td>St. Augustine Prep</td>\n",
       "      <td>0.8596</td>\n",
       "      <td>3</td>\n",
       "      <td>Syracuse</td>\n",
       "      <td>HighSchool</td>\n",
       "      <td>...</td>\n",
       "      <td>94051</td>\n",
       "      <td>4832037</td>\n",
       "      <td>2022</td>\n",
       "      <td>Syracuse</td>\n",
       "      <td>ACC</td>\n",
       "      <td>13</td>\n",
       "      <td>7</td>\n",
       "      <td>6</td>\n",
       "      <td>76</td>\n",
       "      <td>21</td>\n",
       "    </tr>\n",
       "    <tr>\n",
       "      <th>12819</th>\n",
       "      <td>12819</td>\n",
       "      <td>2022, Tennessee</td>\n",
       "      <td>2022</td>\n",
       "      <td>James Pearce Jr.</td>\n",
       "      <td>EDGE</td>\n",
       "      <td>Julius L. Chambers</td>\n",
       "      <td>0.9205</td>\n",
       "      <td>4</td>\n",
       "      <td>Tennessee</td>\n",
       "      <td>HighSchool</td>\n",
       "      <td>...</td>\n",
       "      <td>94105</td>\n",
       "      <td>5081394</td>\n",
       "      <td>2022</td>\n",
       "      <td>Tennessee</td>\n",
       "      <td>SEC</td>\n",
       "      <td>13</td>\n",
       "      <td>11</td>\n",
       "      <td>2</td>\n",
       "      <td>1</td>\n",
       "      <td>91</td>\n",
       "    </tr>\n",
       "    <tr>\n",
       "      <th>12888</th>\n",
       "      <td>12888</td>\n",
       "      <td>2022, Texas A&amp;M</td>\n",
       "      <td>2022</td>\n",
       "      <td>Lebbeus Overton</td>\n",
       "      <td>DL</td>\n",
       "      <td>Milton</td>\n",
       "      <td>0.9932</td>\n",
       "      <td>5</td>\n",
       "      <td>Texas A&amp;M</td>\n",
       "      <td>HighSchool</td>\n",
       "      <td>...</td>\n",
       "      <td>90121</td>\n",
       "      <td>4870960</td>\n",
       "      <td>2022</td>\n",
       "      <td>Texas A&amp;M</td>\n",
       "      <td>SEC</td>\n",
       "      <td>12</td>\n",
       "      <td>5</td>\n",
       "      <td>7</td>\n",
       "      <td>93</td>\n",
       "      <td>52</td>\n",
       "    </tr>\n",
       "    <tr>\n",
       "      <th>13001</th>\n",
       "      <td>13001</td>\n",
       "      <td>2022, UMass</td>\n",
       "      <td>2022</td>\n",
       "      <td>T.Y. Harding</td>\n",
       "      <td>ATH</td>\n",
       "      <td>Buckingham Browne &amp; Nichols School</td>\n",
       "      <td>0.7733</td>\n",
       "      <td>2</td>\n",
       "      <td>UMass</td>\n",
       "      <td>HighSchool</td>\n",
       "      <td>...</td>\n",
       "      <td>94369</td>\n",
       "      <td>4909541</td>\n",
       "      <td>2022</td>\n",
       "      <td>UMass</td>\n",
       "      <td>FBS Independent</td>\n",
       "      <td>12</td>\n",
       "      <td>1</td>\n",
       "      <td>11</td>\n",
       "      <td>129</td>\n",
       "      <td>55</td>\n",
       "    </tr>\n",
       "  </tbody>\n",
       "</table>\n",
       "<p>240 rows × 25 columns</p>\n",
       "</div>"
      ],
      "text/plain": [
       "       Column1             primary_key  freshman_year                   name  \\\n",
       "138        138          2018, Arkansas           2018          Michael Woods   \n",
       "140        140          2018, Arkansas           2018             Joe Foucha   \n",
       "469        469        2018, Cincinnati           2018            Arquon Bush   \n",
       "511        511  2018, Coastal Carolina           2018  Tyrese Johnson-Fisher   \n",
       "714        714     2018, Florida State           2018    Jaiden Lars-Woodbey   \n",
       "...        ...                     ...            ...                    ...   \n",
       "12763    12763          2022, Syracuse           2022    Francois Nolton Jr.   \n",
       "12768    12768          2022, Syracuse           2022       Denis Jaquez Jr.   \n",
       "12819    12819         2022, Tennessee           2022       James Pearce Jr.   \n",
       "12888    12888         2022, Texas A&M           2022        Lebbeus Overton   \n",
       "13001    13001             2022, UMass           2022           T.Y. Harding   \n",
       "\n",
       "      position                         high_school  rating  stars  \\\n",
       "138         WR                            Magnolia  0.8756      3   \n",
       "140          S                         McDonogh 35  0.8721      3   \n",
       "469         CB                              Euclid  0.8646      3   \n",
       "511        ATH                       Oakham School  0.8098      3   \n",
       "714          S                      St. John Bosco  0.9814      4   \n",
       "...        ...                                 ...     ...    ...   \n",
       "12763       DL                              Edison  0.8752      3   \n",
       "12768     EDGE                  St. Augustine Prep  0.8596      3   \n",
       "12819     EDGE                  Julius L. Chambers  0.9205      4   \n",
       "12888       DL                              Milton  0.9932      5   \n",
       "13001      ATH  Buckingham Browne & Nichols School  0.7733      2   \n",
       "\n",
       "           committed_to recruit_type  ...     id athlete_id ncaa_year  \\\n",
       "138            Arkansas   HighSchool  ...  43447    4360174      2018   \n",
       "140            Arkansas   HighSchool  ...  67906    4371995      2018   \n",
       "469          Cincinnati   HighSchool  ...  43637    4360067      2018   \n",
       "511    Coastal Carolina   HighSchool  ...  44951   -1007607      2018   \n",
       "714       Florida State   HighSchool  ...  67893    4360468      2018   \n",
       "...                 ...          ...  ...    ...        ...       ...   \n",
       "12763          Syracuse   HighSchool  ...  94083    4686285      2022   \n",
       "12768          Syracuse   HighSchool  ...  94051    4832037      2022   \n",
       "12819         Tennessee   HighSchool  ...  94105    5081394      2022   \n",
       "12888         Texas A&M   HighSchool  ...  90121    4870960      2022   \n",
       "13001             UMass   HighSchool  ...  94369    4909541      2022   \n",
       "\n",
       "              ncaa_team       conference  total_games  win  loss off_rank  \\\n",
       "138           Arkansas               SEC           12    2    10      117   \n",
       "140           Arkansas               SEC           12    2    10      117   \n",
       "469         Cincinnati               AAC           13   11     2       23   \n",
       "511    Coastal Carolina         Sun Belt           12    5     7       87   \n",
       "714      Florida State               ACC           12    5     7      102   \n",
       "...                 ...              ...          ...  ...   ...      ...   \n",
       "12763         Syracuse               ACC           13    7     6       76   \n",
       "12768         Syracuse               ACC           13    7     6       76   \n",
       "12819        Tennessee               SEC           13   11     2        1   \n",
       "12888        Texas A&M               SEC           12    5     7       93   \n",
       "13001             UMass  FBS Independent           12    1    11      129   \n",
       "\n",
       "      def_rank  \n",
       "138         79  \n",
       "140         79  \n",
       "469         11  \n",
       "511        110  \n",
       "714         80  \n",
       "...        ...  \n",
       "12763       21  \n",
       "12768       21  \n",
       "12819       91  \n",
       "12888       52  \n",
       "13001       55  \n",
       "\n",
       "[240 rows x 25 columns]"
      ]
     },
     "execution_count": 62,
     "metadata": {},
     "output_type": "execute_result"
    }
   ],
   "source": [
    "df_ath_dups"
   ]
  },
  {
   "cell_type": "code",
   "execution_count": 63,
   "id": "88c0a5bd-57f2-47f3-a6b1-131ff79c51fb",
   "metadata": {},
   "outputs": [],
   "source": [
    "for col in df_team_recruit.columns.tolist():\n",
    "  weird = (df_team_recruit[[col]].applymap(type) != df_team_recruit[[col]].iloc[0].apply(type)).any(axis = 1)\n",
    "  if len (df_team_recruit[weird]) > 0:\n",
    "    print (col)"
   ]
  },
  {
   "cell_type": "code",
   "execution_count": 64,
   "id": "684a6a29-0d69-4c68-967d-2fe2de52a085",
   "metadata": {},
   "outputs": [],
   "source": [
    "df_ath_no_dups = df_team_recruit.drop_duplicates(subset = ['athlete_id'], keep = 'last')"
   ]
  },
  {
   "cell_type": "code",
   "execution_count": 65,
   "id": "f73f4a62-b086-4eb9-9674-664394023b80",
   "metadata": {},
   "outputs": [
    {
     "data": {
      "text/plain": [
       "(13003, 25)"
      ]
     },
     "execution_count": 65,
     "metadata": {},
     "output_type": "execute_result"
    }
   ],
   "source": [
    "df_ath_no_dups.shape"
   ]
  },
  {
   "cell_type": "code",
   "execution_count": null,
   "id": "7c6f4217-0dca-41ef-9f9c-29341a798f4a",
   "metadata": {},
   "outputs": [],
   "source": []
  },
  {
   "cell_type": "code",
   "execution_count": 66,
   "id": "675a67f8-c117-4f36-8d24-c7f972c2b763",
   "metadata": {},
   "outputs": [],
   "source": [
    "df_ath_no_dups.to_pickle(os.path.join(path, '02 Data', 'Prepared Data', 'team_recruit.pkl'))"
   ]
  },
  {
   "cell_type": "code",
   "execution_count": null,
   "id": "bcf7d7e4-3063-4cfe-9af7-bcff702ca1b5",
   "metadata": {},
   "outputs": [],
   "source": []
  }
 ],
 "metadata": {
  "kernelspec": {
   "display_name": "Python 3 (ipykernel)",
   "language": "python",
   "name": "python3"
  },
  "language_info": {
   "codemirror_mode": {
    "name": "ipython",
    "version": 3
   },
   "file_extension": ".py",
   "mimetype": "text/x-python",
   "name": "python",
   "nbconvert_exporter": "python",
   "pygments_lexer": "ipython3",
   "version": "3.10.9"
  }
 },
 "nbformat": 4,
 "nbformat_minor": 5
}
