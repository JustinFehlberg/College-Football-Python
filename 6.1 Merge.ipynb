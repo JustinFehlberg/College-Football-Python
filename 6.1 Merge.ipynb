{
 "cells": [
  {
   "cell_type": "code",
   "execution_count": 1,
   "id": "4754d05e-149f-4b64-8f88-bbf1d7f57494",
   "metadata": {},
   "outputs": [],
   "source": [
    "import pandas as pd\n",
    "import numpy as np\n",
    "import os"
   ]
  },
  {
   "cell_type": "code",
   "execution_count": 2,
   "id": "6fceefba-0f52-45d7-9bb7-c98b38a82542",
   "metadata": {},
   "outputs": [],
   "source": [
    "path = r'C:\\Users\\justi\\OneDrive\\Documents\\Career foundry\\Data Immersion 6\\02 Data\\Original Data'"
   ]
  },
  {
   "cell_type": "code",
   "execution_count": 23,
   "id": "dfffe383-f370-461a-8aa5-65ff22d5bd3c",
   "metadata": {},
   "outputs": [],
   "source": [
    "df_team = pd.read_csv(os.path.join(path, 'merge team total.csv'), index_col = False)"
   ]
  },
  {
   "cell_type": "code",
   "execution_count": 9,
   "id": "aafbfdad-81f9-4658-befc-0947bda92226",
   "metadata": {},
   "outputs": [],
   "source": [
    "df_recruit = pd.read_csv(os.path.join(path, 'merge recruits.csv'), index_col = False)"
   ]
  },
  {
   "cell_type": "code",
   "execution_count": 24,
   "id": "d33afcde-8f98-4fab-865c-ade91f0f741f",
   "metadata": {},
   "outputs": [
    {
     "data": {
      "text/html": [
       "<div>\n",
       "<style scoped>\n",
       "    .dataframe tbody tr th:only-of-type {\n",
       "        vertical-align: middle;\n",
       "    }\n",
       "\n",
       "    .dataframe tbody tr th {\n",
       "        vertical-align: top;\n",
       "    }\n",
       "\n",
       "    .dataframe thead th {\n",
       "        text-align: right;\n",
       "    }\n",
       "</style>\n",
       "<table border=\"1\" class=\"dataframe\">\n",
       "  <thead>\n",
       "    <tr style=\"text-align: right;\">\n",
       "      <th></th>\n",
       "      <th>primary_key</th>\n",
       "      <th>year</th>\n",
       "      <th>team</th>\n",
       "      <th>conference</th>\n",
       "      <th>games</th>\n",
       "      <th>win</th>\n",
       "      <th>loss</th>\n",
       "      <th>off_Rank</th>\n",
       "      <th>def_Rank</th>\n",
       "    </tr>\n",
       "  </thead>\n",
       "  <tbody>\n",
       "    <tr>\n",
       "      <th>0</th>\n",
       "      <td>2018, Air Force</td>\n",
       "      <td>2018</td>\n",
       "      <td>Air Force</td>\n",
       "      <td>MWC</td>\n",
       "      <td>12</td>\n",
       "      <td>5</td>\n",
       "      <td>7</td>\n",
       "      <td>52</td>\n",
       "      <td>43</td>\n",
       "    </tr>\n",
       "    <tr>\n",
       "      <th>1</th>\n",
       "      <td>2019, Air Force</td>\n",
       "      <td>2019</td>\n",
       "      <td>Air Force</td>\n",
       "      <td>Mountain West</td>\n",
       "      <td>13</td>\n",
       "      <td>11</td>\n",
       "      <td>2</td>\n",
       "      <td>51</td>\n",
       "      <td>17</td>\n",
       "    </tr>\n",
       "    <tr>\n",
       "      <th>2</th>\n",
       "      <td>2020, Air Force</td>\n",
       "      <td>2020</td>\n",
       "      <td>Air Force</td>\n",
       "      <td>Mountain West</td>\n",
       "      <td>6</td>\n",
       "      <td>3</td>\n",
       "      <td>3</td>\n",
       "      <td>73</td>\n",
       "      <td>8</td>\n",
       "    </tr>\n",
       "    <tr>\n",
       "      <th>3</th>\n",
       "      <td>2021, Air Force</td>\n",
       "      <td>2021</td>\n",
       "      <td>Air Force</td>\n",
       "      <td>Mountain West</td>\n",
       "      <td>13</td>\n",
       "      <td>10</td>\n",
       "      <td>3</td>\n",
       "      <td>51</td>\n",
       "      <td>4</td>\n",
       "    </tr>\n",
       "    <tr>\n",
       "      <th>4</th>\n",
       "      <td>2022, Air Force</td>\n",
       "      <td>2022</td>\n",
       "      <td>Air Force</td>\n",
       "      <td>Mountain West</td>\n",
       "      <td>13</td>\n",
       "      <td>10</td>\n",
       "      <td>3</td>\n",
       "      <td>59</td>\n",
       "      <td>1</td>\n",
       "    </tr>\n",
       "  </tbody>\n",
       "</table>\n",
       "</div>"
      ],
      "text/plain": [
       "       primary_key  year        team     conference  games  win  loss  \\\n",
       "0  2018, Air Force  2018  Air Force             MWC     12    5     7   \n",
       "1  2019, Air Force  2019  Air Force   Mountain West     13   11     2   \n",
       "2  2020, Air Force  2020  Air Force   Mountain West      6    3     3   \n",
       "3  2021, Air Force  2021  Air Force   Mountain West     13   10     3   \n",
       "4  2022, Air Force  2022  Air Force   Mountain West     13   10     3   \n",
       "\n",
       "   off_Rank  def_Rank  \n",
       "0        52        43  \n",
       "1        51        17  \n",
       "2        73         8  \n",
       "3        51         4  \n",
       "4        59         1  "
      ]
     },
     "execution_count": 24,
     "metadata": {},
     "output_type": "execute_result"
    }
   ],
   "source": [
    "df_team.head()"
   ]
  },
  {
   "cell_type": "code",
   "execution_count": 25,
   "id": "e58db47e-e70a-4bff-b101-8bd8be979bd8",
   "metadata": {},
   "outputs": [
    {
     "data": {
      "text/plain": [
       "(647, 9)"
      ]
     },
     "execution_count": 25,
     "metadata": {},
     "output_type": "execute_result"
    }
   ],
   "source": [
    "df_team.shape"
   ]
  },
  {
   "cell_type": "code",
   "execution_count": 10,
   "id": "7b8eff77-b03c-4e46-a642-169ae7b0ec0d",
   "metadata": {},
   "outputs": [
    {
     "data": {
      "text/html": [
       "<div>\n",
       "<style scoped>\n",
       "    .dataframe tbody tr th:only-of-type {\n",
       "        vertical-align: middle;\n",
       "    }\n",
       "\n",
       "    .dataframe tbody tr th {\n",
       "        vertical-align: top;\n",
       "    }\n",
       "\n",
       "    .dataframe thead th {\n",
       "        text-align: right;\n",
       "    }\n",
       "</style>\n",
       "<table border=\"1\" class=\"dataframe\">\n",
       "  <thead>\n",
       "    <tr style=\"text-align: right;\">\n",
       "      <th></th>\n",
       "      <th>primary_key</th>\n",
       "      <th>year</th>\n",
       "      <th>name</th>\n",
       "      <th>position</th>\n",
       "      <th>school</th>\n",
       "      <th>ranking</th>\n",
       "      <th>rating</th>\n",
       "      <th>stars</th>\n",
       "      <th>committed_to</th>\n",
       "      <th>recruit_type</th>\n",
       "      <th>height</th>\n",
       "      <th>weight</th>\n",
       "      <th>city</th>\n",
       "      <th>state</th>\n",
       "      <th>country</th>\n",
       "      <th>id</th>\n",
       "      <th>athlete_id</th>\n",
       "    </tr>\n",
       "  </thead>\n",
       "  <tbody>\n",
       "    <tr>\n",
       "      <th>0</th>\n",
       "      <td>2018, Air Force</td>\n",
       "      <td>2018</td>\n",
       "      <td>Jace Bobo</td>\n",
       "      <td>OLB</td>\n",
       "      <td>Cy-Fair</td>\n",
       "      <td>2354.0</td>\n",
       "      <td>0.7953</td>\n",
       "      <td>2</td>\n",
       "      <td>Air Force</td>\n",
       "      <td>HighSchool</td>\n",
       "      <td>73.0</td>\n",
       "      <td>210.0</td>\n",
       "      <td>Cypress</td>\n",
       "      <td>TX</td>\n",
       "      <td>USA</td>\n",
       "      <td>45262</td>\n",
       "      <td>4384540</td>\n",
       "    </tr>\n",
       "    <tr>\n",
       "      <th>1</th>\n",
       "      <td>2018, Air Force</td>\n",
       "      <td>2018</td>\n",
       "      <td>Malik Rodgers</td>\n",
       "      <td>WR</td>\n",
       "      <td>Shadow Creek</td>\n",
       "      <td>2093.0</td>\n",
       "      <td>0.8065</td>\n",
       "      <td>3</td>\n",
       "      <td>Air Force</td>\n",
       "      <td>HighSchool</td>\n",
       "      <td>69.0</td>\n",
       "      <td>165.0</td>\n",
       "      <td>Pearland</td>\n",
       "      <td>TX</td>\n",
       "      <td>USA</td>\n",
       "      <td>45002</td>\n",
       "      <td>4568655</td>\n",
       "    </tr>\n",
       "    <tr>\n",
       "      <th>2</th>\n",
       "      <td>2018, Air Force</td>\n",
       "      <td>2018</td>\n",
       "      <td>Jaylen Jones</td>\n",
       "      <td>S</td>\n",
       "      <td>Alief Hastings</td>\n",
       "      <td>2157.0</td>\n",
       "      <td>0.8054</td>\n",
       "      <td>3</td>\n",
       "      <td>Air Force</td>\n",
       "      <td>HighSchool</td>\n",
       "      <td>73.0</td>\n",
       "      <td>205.0</td>\n",
       "      <td>Houston</td>\n",
       "      <td>TX</td>\n",
       "      <td>USA</td>\n",
       "      <td>45066</td>\n",
       "      <td>4569007</td>\n",
       "    </tr>\n",
       "    <tr>\n",
       "      <th>3</th>\n",
       "      <td>2018, Air Force</td>\n",
       "      <td>2018</td>\n",
       "      <td>Warren Bryan</td>\n",
       "      <td>DUAL</td>\n",
       "      <td>Damien</td>\n",
       "      <td>2868.0</td>\n",
       "      <td>0.7792</td>\n",
       "      <td>2</td>\n",
       "      <td>Air Force</td>\n",
       "      <td>HighSchool</td>\n",
       "      <td>74.0</td>\n",
       "      <td>190.0</td>\n",
       "      <td>La Verne</td>\n",
       "      <td>CA</td>\n",
       "      <td>USA</td>\n",
       "      <td>45775</td>\n",
       "      <td>4571641</td>\n",
       "    </tr>\n",
       "    <tr>\n",
       "      <th>4</th>\n",
       "      <td>2018, Air Force</td>\n",
       "      <td>2018</td>\n",
       "      <td>Chris Kane</td>\n",
       "      <td>TE</td>\n",
       "      <td>San Clemente</td>\n",
       "      <td>1680.0</td>\n",
       "      <td>0.8255</td>\n",
       "      <td>3</td>\n",
       "      <td>Air Force</td>\n",
       "      <td>HighSchool</td>\n",
       "      <td>77.0</td>\n",
       "      <td>213.0</td>\n",
       "      <td>San Clemente</td>\n",
       "      <td>CA</td>\n",
       "      <td>USA</td>\n",
       "      <td>44587</td>\n",
       "      <td>280</td>\n",
       "    </tr>\n",
       "  </tbody>\n",
       "</table>\n",
       "</div>"
      ],
      "text/plain": [
       "       primary_key  year           name position          school  ranking  \\\n",
       "0  2018, Air Force  2018      Jace Bobo      OLB         Cy-Fair   2354.0   \n",
       "1  2018, Air Force  2018  Malik Rodgers       WR    Shadow Creek   2093.0   \n",
       "2  2018, Air Force  2018   Jaylen Jones        S  Alief Hastings   2157.0   \n",
       "3  2018, Air Force  2018   Warren Bryan     DUAL          Damien   2868.0   \n",
       "4  2018, Air Force  2018     Chris Kane       TE    San Clemente   1680.0   \n",
       "\n",
       "   rating  stars committed_to recruit_type  height  weight          city  \\\n",
       "0  0.7953      2    Air Force   HighSchool    73.0   210.0       Cypress   \n",
       "1  0.8065      3    Air Force   HighSchool    69.0   165.0      Pearland   \n",
       "2  0.8054      3    Air Force   HighSchool    73.0   205.0       Houston   \n",
       "3  0.7792      2    Air Force   HighSchool    74.0   190.0      La Verne   \n",
       "4  0.8255      3    Air Force   HighSchool    77.0   213.0  San Clemente   \n",
       "\n",
       "  state country     id  athlete_id  \n",
       "0    TX     USA  45262     4384540  \n",
       "1    TX     USA  45002     4568655  \n",
       "2    TX     USA  45066     4569007  \n",
       "3    CA     USA  45775     4571641  \n",
       "4    CA     USA  44587         280  "
      ]
     },
     "execution_count": 10,
     "metadata": {},
     "output_type": "execute_result"
    }
   ],
   "source": [
    "df_recruit.head()"
   ]
  },
  {
   "cell_type": "code",
   "execution_count": 8,
   "id": "ec54c7cb-357e-4d67-933e-ada9af213838",
   "metadata": {},
   "outputs": [
    {
     "data": {
      "text/plain": [
       "(21162, 17)"
      ]
     },
     "execution_count": 8,
     "metadata": {},
     "output_type": "execute_result"
    }
   ],
   "source": [
    "df_recruit.shape"
   ]
  },
  {
   "cell_type": "code",
   "execution_count": 28,
   "id": "b01cd74f-a951-47f2-8caf-621b9cf7b645",
   "metadata": {},
   "outputs": [],
   "source": [
    "df_merge_f = df_recruit.merge(df_team, on = 'primary_key', indicator = True).fillna('Na')"
   ]
  },
  {
   "cell_type": "code",
   "execution_count": 29,
   "id": "9aa1dc1d-3465-4279-94ac-b73447b5f4d5",
   "metadata": {},
   "outputs": [
    {
     "data": {
      "text/plain": [
       "(13243, 26)"
      ]
     },
     "execution_count": 29,
     "metadata": {},
     "output_type": "execute_result"
    }
   ],
   "source": [
    "df_merge_f.shape"
   ]
  },
  {
   "cell_type": "code",
   "execution_count": 30,
   "id": "74b3a0f5-7d4d-441a-9d9b-2c5376c1f3b2",
   "metadata": {},
   "outputs": [],
   "source": [
    "df_merge_f.to_csv(os.path.join(path, 'merge_f.csv'))"
   ]
  },
  {
   "cell_type": "code",
   "execution_count": null,
   "id": "8bd27c92-8565-4585-8e61-c2c97dbcc03e",
   "metadata": {},
   "outputs": [],
   "source": []
  }
 ],
 "metadata": {
  "kernelspec": {
   "display_name": "Python 3 (ipykernel)",
   "language": "python",
   "name": "python3"
  },
  "language_info": {
   "codemirror_mode": {
    "name": "ipython",
    "version": 3
   },
   "file_extension": ".py",
   "mimetype": "text/x-python",
   "name": "python",
   "nbconvert_exporter": "python",
   "pygments_lexer": "ipython3",
   "version": "3.10.9"
  }
 },
 "nbformat": 4,
 "nbformat_minor": 5
}
